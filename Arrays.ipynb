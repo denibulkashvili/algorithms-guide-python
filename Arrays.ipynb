{
 "cells": [
  {
   "cell_type": "markdown",
   "metadata": {},
   "source": [
    "[Overview of Algorithms and Data Structures](algorithms_overview.ipynb) / Data Structures / Arrays"
   ]
  },
  {
   "cell_type": "markdown",
   "metadata": {},
   "source": [
    "# Arrays"
   ]
  },
  {
   "cell_type": "markdown",
   "metadata": {},
   "source": [
    "### List"
   ]
  },
  {
   "cell_type": "markdown",
   "metadata": {},
   "source": [
    "* Doesn't need to be imported\n",
    "* Doesn't have to be restricted with specific data type\n",
    "\n",
    "**Big-O** \n",
    "\n",
    "Internally, a list is represented as an array; the largest costs come from growing beyond the current allocation size (because everything must move), or from inserting or deleting somewhere near the beginning (because everything after that must move). If you need to add/remove at both ends, consider using a collections.deque instead.\n",
    "\n",
    "| Operation | Average Case |\n",
    "| --- | --- |\n",
    "| Copy | O(n) |\n",
    "| Append[1] | O(1) |\n",
    "| Pop last | O(1) | \n",
    "| Pop intermediate | O(k) |\n",
    "| Insert | O(n) | \n",
    "| Get Item | O(1) | \n",
    "| Set Item | O(1) |\n",
    "| Delete Item | O(n) | \n",
    "| Iteration | O(n) |\n",
    "| Get Slice | O(k) |\n",
    "| Del Slice | O(n) |\n",
    "| Set Slice | O(k+n) |\n",
    "| Extend[1] | O(k) |\n",
    "| Sort | O(n log n)|\n",
    "| Multiply | O(nk)|\n"
   ]
  },
  {
   "cell_type": "markdown",
   "metadata": {},
   "source": [
    "### Array (array.array)"
   ]
  },
  {
   "cell_type": "markdown",
   "metadata": {},
   "source": [
    "When talking about arrays in Python, it is generally referred to as ```lists```. However, Python has ```arrays``` data structure as well:\n",
    "* It has to be imported ```import array```\n",
    "* The data type has to be specified during array creation ```a = array.array(\"I\",[3,6,9]) #\"I\" refers to int data type```"
   ]
  },
  {
   "cell_type": "markdown",
   "metadata": {},
   "source": [
    "### Array(List) Sorting Algorithms"
   ]
  },
  {
   "cell_type": "markdown",
   "metadata": {},
   "source": [
    "![array_sorting_algorithms](media/array_sorting_algorithms.jpg)"
   ]
  },
  {
   "cell_type": "markdown",
   "metadata": {},
   "source": [
    "### Python Array vs List"
   ]
  },
  {
   "cell_type": "markdown",
   "metadata": {},
   "source": [
    "With arrays, you can perform an operations on all its item individually easily, which may not be the case with lists:"
   ]
  },
  {
   "cell_type": "code",
   "execution_count": 6,
   "metadata": {},
   "outputs": [
    {
     "name": "stdout",
     "output_type": "stream",
     "text": [
      "array('u', 'cats')\n"
     ]
    }
   ],
   "source": [
    "import array\n",
    "\n",
    "array_char = array.array(\"u\",[\"c\",\"a\",\"t\",\"s\"]) # create an array with Unicode data type\n",
    "array_char.tostring()\n",
    "print(array_char)"
   ]
  },
  {
   "cell_type": "markdown",
   "metadata": {},
   "source": [
    "We can apply tostring() function of the array_char because Python is aware that **all the items in an array are of the same data type** and hence the operation behaves the same way on each element. \n",
    "\n",
    "Thus, arrays can be very useful when dealing with a large collection of homogeneous data types. Since Python does not have to remember the data type details of each element individually; for some uses arrays may be faster and use less memory when compared to lists.\n",
    "\n",
    "However, if you want to do math on a homogeneous array of numeric data, then you're much better off using NumPy, which can automatically vectorize operations on complex multi-dimensional arrays."
   ]
  },
  {
   "cell_type": "markdown",
   "metadata": {},
   "source": [
    "### NumPy Array"
   ]
  },
  {
   "cell_type": "markdown",
   "metadata": {},
   "source": [
    "* Heavily used in the data science to work with multidimensional arrays \n",
    "* More efficient than the array module and Python lists in general \n",
    "* Support for \"vectorized\" operations such as elementwise addition \n",
    "* Work efficiently with large sparse datasets"
   ]
  },
  {
   "cell_type": "markdown",
   "metadata": {},
   "source": [
    "### Other List Data Structure"
   ]
  },
  {
   "cell_type": "markdown",
   "metadata": {},
   "source": [
    "* Linear data structures \n",
    "    - [Stacks](stacks.ipynb)\n",
    "    - [Queues](queues.ipynb)\n",
    "* Non-linear data structures \n",
    "    - [Trees](trees.ipynb)\n",
    "    - [Graphs](graphs.ipynb)"
   ]
  },
  {
   "cell_type": "markdown",
   "metadata": {},
   "source": [
    "# Resources"
   ]
  },
  {
   "cell_type": "markdown",
   "metadata": {},
   "source": [
    "* [Big-O Cheetsheet](http://bigocheatsheet.com/)\n",
    "* [Python Data Structures Tutorial - Sejal Jaiswal](https://www.datacamp.com/community/tutorials/data-structures-python)\n",
    "* [Time Complexity - Python Wiki](https://wiki.python.org/moin/TimeComplexity)"
   ]
  }
 ],
 "metadata": {
  "kernelspec": {
   "display_name": "Python 3",
   "language": "python",
   "name": "python3"
  },
  "language_info": {
   "codemirror_mode": {
    "name": "ipython",
    "version": 3
   },
   "file_extension": ".py",
   "mimetype": "text/x-python",
   "name": "python",
   "nbconvert_exporter": "python",
   "pygments_lexer": "ipython3",
   "version": "3.6.4"
  }
 },
 "nbformat": 4,
 "nbformat_minor": 2
}
