{
 "cells": [
  {
   "cell_type": "markdown",
   "metadata": {},
   "source": [
    "# Overview of Algorithms and Data Structures "
   ]
  },
  {
   "cell_type": "markdown",
   "metadata": {},
   "source": [
    "## Main Concepts"
   ]
  },
  {
   "cell_type": "markdown",
   "metadata": {},
   "source": [
    "- [Big-O notation](big_o.ipynb)\n",
    "- [Logarithms](logarithms.ipynb)"
   ]
  },
  {
   "cell_type": "markdown",
   "metadata": {},
   "source": [
    "## Data Structures"
   ]
  },
  {
   "cell_type": "markdown",
   "metadata": {},
   "source": [
    "* [Arrays](arrays.ipynb)\n",
    "* Hash Tables\n",
    "* Linked Lists\n",
    "* Stacks\n",
    "* Queues\n",
    "* Trees\n",
    "* Graphs"
   ]
  },
  {
   "cell_type": "markdown",
   "metadata": {},
   "source": [
    "### Cheetsheets"
   ]
  },
  {
   "cell_type": "markdown",
   "metadata": {},
   "source": [
    "1. ...\n"
   ]
  },
  {
   "cell_type": "markdown",
   "metadata": {},
   "source": [
    "## Algorithms"
   ]
  },
  {
   "cell_type": "markdown",
   "metadata": {},
   "source": [
    "### Graphs"
   ]
  },
  {
   "cell_type": "markdown",
   "metadata": {},
   "source": [
    "* Breadth-First Traversal \n",
    "* Depth-First Traversal\n",
    "* Shortest Path from source to all vertices **Dijkstra** \n",
    "* Shortest Path from every vertex to every other vertex **Floyd Warshall**\n",
    "* To detect cycle in a Graph **Union Find**\n",
    "* Minimum Spanning tree **Prim** \n",
    "* Minimum Spanning tree **Kruskal** \n",
    "* Topological Sort\n",
    "* Boggle (Find all possible words in a board of characters)\n",
    "* Bridges in a Graph"
   ]
  },
  {
   "cell_type": "markdown",
   "metadata": {},
   "source": [
    "### Linked Lists"
   ]
  },
  {
   "cell_type": "markdown",
   "metadata": {},
   "source": [
    "* Insertion of a node in Linked List (On the basis of some constraints)\n",
    "* Delete a given node in Linked List (under given constraints)\n",
    "* Compare two strings represented as linked lists\n",
    "* Add Two Numbers Represented By Linked Lists\n",
    "* Merge A Linked List Into Another Linked List At Alternate Positions\n",
    "* Reverse A List In Groups Of Given Size\n",
    "* Union And Intersection Of 2 Linked Lists\n",
    "* Detect And Remove Loop In A Linked List\n",
    "* Merge Sort For Linked Lists\n",
    "* Select A Random Node from A Singly Linked List"
   ]
  },
  {
   "cell_type": "markdown",
   "metadata": {},
   "source": [
    "### Searching and Sorting"
   ]
  },
  {
   "cell_type": "markdown",
   "metadata": {},
   "source": [
    "* [Binary Search](binary_search.ipynb)\n",
    "* Search an element in a sorted and rotated array\n",
    "* Bubble Sort\n",
    "* Insertion Sort\n",
    "* Merge Sort\n",
    "* Heap Sort (Binary Heap)\n",
    "* Quick Sort\n",
    "* Interpolation Search\n",
    "* Find Kth Smallest/Largest Element In Unsorted Array\n",
    "* Given a sorted array and a number x, find the pair in array whose sum is closest to x"
   ]
  },
  {
   "cell_type": "markdown",
   "metadata": {},
   "source": [
    "### Cheetsheets"
   ]
  },
  {
   "cell_type": "markdown",
   "metadata": {},
   "source": [
    "1. ..."
   ]
  },
  {
   "cell_type": "code",
   "execution_count": null,
   "metadata": {},
   "outputs": [],
   "source": []
  },
  {
   "cell_type": "markdown",
   "metadata": {},
   "source": [
    "# Resources"
   ]
  },
  {
   "cell_type": "markdown",
   "metadata": {},
   "source": [
    "* [Interview Cake](https://www.interviewcake.com/)\n",
    "* Cracking the Coding Interview. 6th Edition - Gale Laakmann McDovell\n",
    "* [GeeksforGeeks](https://www.geeksforgeeks.org)"
   ]
  },
  {
   "cell_type": "code",
   "execution_count": null,
   "metadata": {},
   "outputs": [],
   "source": []
  }
 ],
 "metadata": {
  "kernelspec": {
   "display_name": "Python 3",
   "language": "python",
   "name": "python3"
  },
  "language_info": {
   "codemirror_mode": {
    "name": "ipython",
    "version": 3
   },
   "file_extension": ".py",
   "mimetype": "text/x-python",
   "name": "python",
   "nbconvert_exporter": "python",
   "pygments_lexer": "ipython3",
   "version": "3.6.4"
  }
 },
 "nbformat": 4,
 "nbformat_minor": 2
}
