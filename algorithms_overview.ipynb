{
 "cells": [
  {
   "cell_type": "markdown",
   "metadata": {},
   "source": [
    "# Overview of Algorithms and Data Structures "
   ]
  },
  {
   "cell_type": "markdown",
   "metadata": {},
   "source": [
    "## Main Concepts"
   ]
  },
  {
   "cell_type": "markdown",
   "metadata": {},
   "source": [
    "- [Time Complexity (Big-O notation)](big_o.ipynb)\n",
    "- [Space Complexity](space_complexity.ipynb)\n",
    "- [Logarithms](logarithms.ipynb)"
   ]
  },
  {
   "cell_type": "markdown",
   "metadata": {},
   "source": [
    "## Data Structures"
   ]
  },
  {
   "cell_type": "markdown",
   "metadata": {},
   "source": [
    "* [Arrays](arrays.ipynb)\n",
    "* Hash Tables\n",
    "* [Linked Lists](linked_lists.ipynb)\n",
    "* [Stacks](stacks.ipynb)\n",
    "* [Queues](queues.ipynb)\n",
    "* [Trees](trees.ipynb)\n",
    "* [Graphs](graphs.ipynb)"
   ]
  },
  {
   "cell_type": "markdown",
   "metadata": {},
   "source": [
    "### Cheetsheets"
   ]
  },
  {
   "cell_type": "markdown",
   "metadata": {},
   "source": [
    "1. ...\n"
   ]
  },
  {
   "cell_type": "markdown",
   "metadata": {},
   "source": [
    "## Algorithms"
   ]
  },
  {
   "cell_type": "markdown",
   "metadata": {},
   "source": [
    "### String / Array"
   ]
  },
  {
   "cell_type": "markdown",
   "metadata": {},
   "source": [
    "* [Reverse an array without affecting special characters](array_reverse_an_array_without_affecting_special_characters.ipynb)\n",
    "* All Possible Palindromic Partitions\n",
    "* Count triplets with sum smaller than a given value\n",
    "* Convert array into Zig-Zag fashion\n",
    "* Generate all possible sorted arrays from alternate elements of two given sorted arrays\n",
    "* Pythagorean Triplet in an array\n",
    "* Length of the largest subarray with contiguous elements\n",
    "* Find the smallest positive integer value that cannot be represented as sum of any subset of a given array\n",
    "* Smallest subarray with sum greater than a given value\n",
    "* Stock Buy Sell to Maximize Profit"
   ]
  },
  {
   "cell_type": "markdown",
   "metadata": {},
   "source": [
    "### Graphs"
   ]
  },
  {
   "cell_type": "markdown",
   "metadata": {},
   "source": [
    "* Breadth-First Traversal \n",
    "* Depth-First Traversal\n",
    "* Shortest Path from source to all vertices **Dijkstra** \n",
    "* Shortest Path from every vertex to every other vertex **Floyd Warshall**\n",
    "* To detect cycle in a Graph **Union Find**\n",
    "* Minimum Spanning tree **Prim** \n",
    "* Minimum Spanning tree **Kruskal** \n",
    "* Topological Sort\n",
    "* Boggle (Find all possible words in a board of characters)\n",
    "* Bridges in a Graph"
   ]
  },
  {
   "cell_type": "markdown",
   "metadata": {},
   "source": [
    "### Linked Lists"
   ]
  },
  {
   "cell_type": "markdown",
   "metadata": {},
   "source": [
    "* Insertion of a node in Linked List (On the basis of some constraints)\n",
    "* Delete a given node in Linked List (under given constraints)\n",
    "* Compare two strings represented as linked lists\n",
    "* Add Two Numbers Represented By Linked Lists\n",
    "* Merge A Linked List Into Another Linked List At Alternate Positions\n",
    "* Reverse A List In Groups Of Given Size\n",
    "* Union And Intersection Of 2 Linked Lists\n",
    "* Detect And Remove Loop In A Linked List\n",
    "* Merge Sort For Linked Lists\n",
    "* Select A Random Node from A Singly Linked List"
   ]
  },
  {
   "cell_type": "markdown",
   "metadata": {},
   "source": [
    "### Searching and Sorting"
   ]
  },
  {
   "cell_type": "markdown",
   "metadata": {},
   "source": [
    "* [Binary Search](binary_search.ipynb)\n",
    "* Search an element in a sorted and rotated array\n",
    "* Bubble Sort\n",
    "* Insertion Sort\n",
    "* Merge Sort\n",
    "* Heap Sort (Binary Heap)\n",
    "* Quick Sort\n",
    "* Interpolation Search\n",
    "* Find Kth Smallest/Largest Element In Unsorted Array\n",
    "* Given a sorted array and a number x, find the pair in array whose sum is closest to x"
   ]
  },
  {
   "cell_type": "markdown",
   "metadata": {},
   "source": [
    "### Tree / Binary Search Tree"
   ]
  },
  {
   "cell_type": "markdown",
   "metadata": {},
   "source": [
    "* Find Minimum Depth of a Binary Tree\n",
    "* Maximum Path Sum in a Binary Tree\n",
    "* Check if a given array can represent Preorder Traversal of Binary Search Tree\n",
    "* Check whether a binary tree is a full binary tree or not\n",
    "* Bottom View Binary Tree\n",
    "* Print Nodes in Top View of Binary Tree\n",
    "* Remove nodes on root to leaf paths of length < K\n",
    "* Lowest Common Ancestor in a Binary Search Tree\n",
    "* Check if a binary tree is subtree of another binary tree\n",
    "* Reverse alternate levels of a perfect binary tree"
   ]
  },
  {
   "cell_type": "markdown",
   "metadata": {},
   "source": [
    "### Number Theory"
   ]
  },
  {
   "cell_type": "markdown",
   "metadata": {},
   "source": [
    "* Modular Exponentiation\n",
    "* Modular multiplicative inverse\n",
    "* Primality Test | Set 2 (Fermat Method)\n",
    "* Euler’s Totient Function\n",
    "* Sieve of Eratosthenes\n",
    "* Convex Hull\n",
    "* Basic and Extended Euclidean algorithms\n",
    "* Segmented Sieve\n",
    "* Chinese remainder theorem\n",
    "* Lucas Theorem"
   ]
  },
  {
   "cell_type": "markdown",
   "metadata": {},
   "source": [
    "### BIT Manipulation"
   ]
  },
  {
   "cell_type": "markdown",
   "metadata": {},
   "source": [
    "* Maximum Subarray XOR\n",
    "* Magic Number\n",
    "* Sum of bit differences among all pairs\n",
    "* Swap All Odds And Even Bits\n",
    "* Find the element that appears once\n",
    "* Binary representation of a given number\n",
    "* Count total set bits in all numbers from 1 to n\n",
    "* Rotate bits of a number\n",
    "* Count number of bits to be flipped to convert A to B\n",
    "* Find Next Sparse Number"
   ]
  },
  {
   "cell_type": "markdown",
   "metadata": {},
   "source": [
    "### Cheetsheets"
   ]
  },
  {
   "cell_type": "markdown",
   "metadata": {},
   "source": [
    "1. ..."
   ]
  },
  {
   "cell_type": "markdown",
   "metadata": {},
   "source": [
    "# Resources"
   ]
  },
  {
   "cell_type": "markdown",
   "metadata": {},
   "source": [
    "* [Interview Cake](https://www.interviewcake.com/)\n",
    "* Cracking the Coding Interview. 6th Edition - Gale Laakmann McDovell\n",
    "* [GeeksforGeeks](https://www.geeksforgeeks.org)"
   ]
  },
  {
   "cell_type": "code",
   "execution_count": null,
   "metadata": {},
   "outputs": [],
   "source": []
  }
 ],
 "metadata": {
  "kernelspec": {
   "display_name": "Python 3",
   "language": "python",
   "name": "python3"
  },
  "language_info": {
   "codemirror_mode": {
    "name": "ipython",
    "version": 3
   },
   "file_extension": ".py",
   "mimetype": "text/x-python",
   "name": "python",
   "nbconvert_exporter": "python",
   "pygments_lexer": "ipython3",
   "version": "3.6.4"
  }
 },
 "nbformat": 4,
 "nbformat_minor": 2
}
