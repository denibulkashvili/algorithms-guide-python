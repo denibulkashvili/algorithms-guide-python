{
 "cells": [
  {
   "cell_type": "markdown",
   "metadata": {},
   "source": [
    "[Overview of Algorithms and Data Structures](algorithms_overview.ipynb) / Main Concepts / Logaritms"
   ]
  },
  {
   "cell_type": "markdown",
   "metadata": {},
   "source": [
    "# Logarithms"
   ]
  },
  {
   "cell_type": "markdown",
   "metadata": {},
   "source": [
    "Here's what a logarithm is asking:\n",
    "\n",
    "**\"What power must we raise this base to, in order to get this answer?\"**\n",
    "\n",
    "So if we say:\n",
    "\n",
    "$log_{10} 100$\n",
    "    \n",
    "The 10 is called the base (makes sense—it's on the bottom). Think of the 100 as the \"answer.\" It's what we're taking the log of. So this expression would be pronounced \"log base 10 of 100.\"\n",
    "\n",
    "$10^x = 100$\n",
    "\n",
    "What x gets us our result of 100? The answer is 2:\n",
    "\n",
    "$10^2 = 100$\n",
    "\n",
    "So we can say:\n",
    "\n",
    "$log_{10}{100} = 2$\n"
   ]
  },
  {
   "cell_type": "markdown",
   "metadata": {},
   "source": [
    "## Usage Examples"
   ]
  },
  {
   "cell_type": "markdown",
   "metadata": {},
   "source": [
    "### [Binary Search](binary_search.ipynb)\n"
   ]
  },
  {
   "cell_type": "code",
   "execution_count": 24,
   "metadata": {},
   "outputs": [],
   "source": [
    "  def binary_search(target, nums):\n",
    "    \"\"\"See if target appears in nums\"\"\"\n",
    "    # We think of floor_index and ceiling_index as \"walls\" around\n",
    "    # the possible positions of our target so by -1 below we mean\n",
    "    # to start our wall \"to the left\" of the 0th index\n",
    "    # (we *don't* mean \"the last index\")\n",
    "    floor_index = -1\n",
    "    ceiling_index = len(nums)\n",
    "\n",
    "    # If there isn't at least 1 index between floor and ceiling,\n",
    "    # we've run out of guesses and the number must not be present\n",
    "    while floor_index + 1 < ceiling_index:\n",
    "        # Find the index ~halfway between the floor and ceiling\n",
    "        # We use integer division, so we'll never get a \"half index\"\n",
    "        distance = ceiling_index - floor_index\n",
    "        half_distance = distance // 2\n",
    "        guess_index = floor_index + half_distance\n",
    "\n",
    "        guess_value = nums[guess_index]\n",
    "        if guess_value == target:\n",
    "            return True\n",
    "\n",
    "        if guess_value > target:\n",
    "            # Target is to the left, so move ceiling to the left\n",
    "            ceiling_index = guess_index\n",
    "        else:\n",
    "            # Target is to the right, so move floor to the right\n",
    "            floor_index = guess_index\n",
    "\n",
    "    return False"
   ]
  },
  {
   "cell_type": "code",
   "execution_count": 40,
   "metadata": {},
   "outputs": [
    {
     "name": "stdout",
     "output_type": "stream",
     "text": [
      "True\n",
      "0.7949822379559919\n"
     ]
    }
   ],
   "source": [
    "if __name__ == '__main__':\n",
    "    import timeit\n",
    "    \n",
    "    numbers = [i for i in range(3,40,3)]\n",
    "    print(binary_search(33, numbers))\n",
    "    \n",
    "    # timeit \n",
    "    print(timeit.timeit(\"binary_search(33, numbers)\", setup=\"from __main__ import binary_search, numbers\"))\n"
   ]
  },
  {
   "cell_type": "markdown",
   "metadata": {},
   "source": [
    "#### Big-O Notation"
   ]
  },
  {
   "cell_type": "markdown",
   "metadata": {},
   "source": [
    "The total time cost of binary search is **O (log n)**."
   ]
  },
  {
   "cell_type": "markdown",
   "metadata": {},
   "source": [
    "### Merge Sort"
   ]
  },
  {
   "cell_type": "code",
   "execution_count": 35,
   "metadata": {},
   "outputs": [],
   "source": [
    "  def merge_sort(list_to_sort):\n",
    "    # Base case: lists with fewer than 2 elements are sorted\n",
    "    if len(list_to_sort) < 2:\n",
    "        return list_to_sort\n",
    "\n",
    "    # Step 1: divide the list in half\n",
    "    # We use integer division, so we'll never get a \"half index\"\n",
    "    mid_index = len(list_to_sort) // 2\n",
    "    left  = list_to_sort[:mid_index]\n",
    "    right = list_to_sort[mid_index:]\n",
    "\n",
    "    # Step 2: sort each half\n",
    "    sorted_left  = merge_sort(left)\n",
    "    sorted_right = merge_sort(right)\n",
    "\n",
    "    # Step 3: merge the sorted halves\n",
    "    sorted_list = []\n",
    "    current_index_left = 0\n",
    "    current_index_right = 0\n",
    "\n",
    "    # sorted_left's first element comes next \n",
    "    # if it's less than sorted_right's first element \n",
    "    # or if sorted_right is exhausted\n",
    "    while len(sorted_list) < len(left) + len(right):\n",
    "        if ((current_index_left < len(left)) and\n",
    "                (current_index_right == len(right) or\n",
    "                 sorted_left[current_index_left] < sorted_right[current_index_right])):\n",
    "            sorted_list.append(sorted_left[current_index_left])\n",
    "            current_index_left += 1\n",
    "        else:\n",
    "            sorted_list.append(sorted_right[current_index_right])\n",
    "            current_index_right += 1\n",
    "    return sorted_list"
   ]
  },
  {
   "cell_type": "code",
   "execution_count": 42,
   "metadata": {},
   "outputs": [
    {
     "name": "stdout",
     "output_type": "stream",
     "text": [
      "[28, 19, 14, 6, 9, 33, 29, 17, 27, 19]\n",
      "[6, 9, 14, 17, 19, 19, 27, 28, 29, 33]\n",
      "22.428807618950714\n"
     ]
    }
   ],
   "source": [
    "if __name__ == '__main__':\n",
    "    import timeit\n",
    "    import random\n",
    "    \n",
    "    numbers = [random.randrange(3,40) for i in range(10)]\n",
    "    print(numbers)\n",
    "    print(merge_sort(numbers))\n",
    "    \n",
    "    # timeit \n",
    "    print(timeit.timeit(\"merge_sort(numbers)\", setup=\"from __main__ import merge_sort, numbers\"))"
   ]
  },
  {
   "cell_type": "markdown",
   "metadata": {},
   "source": [
    "#### Big-O Notation"
   ]
  },
  {
   "cell_type": "markdown",
   "metadata": {},
   "source": [
    "The total time cost of binary search is **O (n log n)**."
   ]
  },
  {
   "cell_type": "markdown",
   "metadata": {},
   "source": [
    "### Finding the Height of Binary Trees"
   ]
  },
  {
   "cell_type": "markdown",
   "metadata": {},
   "source": [
    "The height of the binary tree is the number of levels it has"
   ]
  },
  {
   "attachments": {},
   "cell_type": "markdown",
   "metadata": {},
   "source": [
    "![image.png](media/binary_tree__depth_5_with_number_of_nodes_labelled.svg)"
   ]
  },
  {
   "cell_type": "markdown",
   "metadata": {},
   "source": []
  },
  {
   "cell_type": "markdown",
   "metadata": {},
   "source": [
    "# Resources"
   ]
  },
  {
   "cell_type": "markdown",
   "metadata": {},
   "source": [
    "* [Logarithms - Interview Cake](https://www.interviewcake.com/article/python/logarithms?)"
   ]
  },
  {
   "cell_type": "code",
   "execution_count": null,
   "metadata": {},
   "outputs": [],
   "source": []
  }
 ],
 "metadata": {
  "kernelspec": {
   "display_name": "Python 3",
   "language": "python",
   "name": "python3"
  },
  "language_info": {
   "codemirror_mode": {
    "name": "ipython",
    "version": 3
   },
   "file_extension": ".py",
   "mimetype": "text/x-python",
   "name": "python",
   "nbconvert_exporter": "python",
   "pygments_lexer": "ipython3",
   "version": "3.6.4"
  }
 },
 "nbformat": 4,
 "nbformat_minor": 2
}
