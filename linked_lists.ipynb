{
 "cells": [
  {
   "cell_type": "markdown",
   "metadata": {},
   "source": [
    "[Overview of Algorithms and Data Structures](algorithms_overview.ipynb) / Data Structures / Linked Lists"
   ]
  },
  {
   "cell_type": "markdown",
   "metadata": {},
   "source": [
    "# Linked Lists"
   ]
  },
  {
   "cell_type": "markdown",
   "metadata": {},
   "source": [
    "## What Are Linked List"
   ]
  },
  {
   "cell_type": "markdown",
   "metadata": {},
   "source": [
    "A linked list is a linear data structure, in which the elements are not stored at contiguous memory locations. A linked list consists of nodes where each node contains a data field and a reference(link) to the next node in the list."
   ]
  },
  {
   "cell_type": "markdown",
   "metadata": {},
   "source": [
    "![memory_allocation](media/memory_allocation.jpeg)"
   ]
  },
  {
   "cell_type": "markdown",
   "metadata": {},
   "source": [
    "## Types of Linked Lists"
   ]
  },
  {
   "cell_type": "markdown",
   "metadata": {},
   "source": [
    "* **Singly linked list** - There is a single track to traverse the list in: from the head node until the last node, which will end at an empty null value.\n",
    "* **Doubly linked list** - Nodes contain two references: to the next node and the previous node. Doubly linked lists can be traversed in both directions.\n",
    "* **Circular Linked list** - Doesn’t end with a node pointing to a null value. Instead, it has a node that acts as the tail of the list (rather than the conventional head node), and the node after the tail node is the beginning of the list. This organization structure makes it really easy to add something to the end of the list, because you can begin traversing it at the tail node, as the first element and last element point to one another. "
   ]
  },
  {
   "cell_type": "markdown",
   "metadata": {},
   "source": [
    "## Parts of A Linked List"
   ]
  },
  {
   "cell_type": "markdown",
   "metadata": {},
   "source": [
    "A linked list is made up of a series of **nodes**, which are the elements of the list. \n",
    "\n",
    "The starting point of the list is a reference to the first node, the **head**, which the only entry point to the list and all of its elements. The end of the list isn’t a node, but rather a node that points to **null**, or an empty value.\n",
    "\n",
    "A single node consists of **data**, or the information that the node contains, and a **reference to the next node**.\n"
   ]
  },
  {
   "cell_type": "markdown",
   "metadata": {},
   "source": [
    "## Creating A Linked List in Python"
   ]
  },
  {
   "cell_type": "markdown",
   "metadata": {},
   "source": [
    "A linked list is created by using the Node class that takes in a value parameter and can also point to the next node's value."
   ]
  },
  {
   "cell_type": "code",
   "execution_count": 12,
   "metadata": {},
   "outputs": [],
   "source": [
    "class Node:\n",
    "    def __init__(self, val):\n",
    "        self.val = val\n",
    "        self.next = None\n",
    "        \n",
    "# Once you have the Node class, you can implement any linked list\n",
    "node1 = Node(12) \n",
    "node2 = Node(99) \n",
    "node3 = Node(37) \n",
    "node1.next = node2 # 12->99\n",
    "node2.next = node3 # 99->37\n",
    "# the entire linked list now looks like: 12->99->37"
   ]
  },
  {
   "cell_type": "markdown",
   "metadata": {},
   "source": [
    "From here, node objects can be used to implement and create a linked list class. However, since the entry point to the linked list is the head node, it could serve as the representation of the linked list as the whole."
   ]
  },
  {
   "cell_type": "markdown",
   "metadata": {},
   "source": [
    "## Traversing the Linked List"
   ]
  },
  {
   "cell_type": "markdown",
   "metadata": {},
   "source": [
    "Here's how to traverse a linked list. Start from the head node, check its value, and move on to the next node. If the node doesn't have any value (None), the traversal has hit the end of the linked list."
   ]
  },
  {
   "cell_type": "code",
   "execution_count": 4,
   "metadata": {},
   "outputs": [
    {
     "name": "stdout",
     "output_type": "stream",
     "text": [
      "12\n",
      "99\n",
      "37\n"
     ]
    }
   ],
   "source": [
    "class Node:\n",
    "    def __init__(self, val):\n",
    "        self.val = val\n",
    "        self.next = None \n",
    "    \n",
    "    def traverse(self):\n",
    "        node = self # start from the head node\n",
    "        while node != None:\n",
    "            print(node.val) # access the node value\n",
    "            node = node.next # move on to the next node\n",
    "\n",
    "node1 = Node(12) \n",
    "node2 = Node(99) \n",
    "node3 = Node(37) \n",
    "node1.next = node2\n",
    "node2.next = node3 \n",
    "\n",
    "node1.traverse()\n"
   ]
  },
  {
   "cell_type": "markdown",
   "metadata": {},
   "source": [
    "## Inserting Values"
   ]
  },
  {
   "cell_type": "markdown",
   "metadata": {},
   "source": [
    "Inserting element in the linked list involves reassigning the pointers from the existing nodes to the newly inserted node. Depending on whether the new data element is getting inserted at the beginning or at the middle or at the end of the linked list, we have the below scenarios."
   ]
  },
  {
   "cell_type": "markdown",
   "metadata": {},
   "source": [
    "### Inserting at the Beginning of the Linked List"
   ]
  },
  {
   "cell_type": "markdown",
   "metadata": {},
   "source": [
    "This involves pointing the **next pointer of the new data node** to the **current head** of the linked list. So the current head of the linked list becomes the second data element and the new node becomes the head of the linked list."
   ]
  },
  {
   "cell_type": "code",
   "execution_count": 6,
   "metadata": {},
   "outputs": [
    {
     "name": "stdout",
     "output_type": "stream",
     "text": [
      "33\n",
      "12\n",
      "99\n",
      "37\n"
     ]
    }
   ],
   "source": [
    "class Node:\n",
    "    \n",
    "    def __init__(self, val):\n",
    "        self.val = val\n",
    "        self.next = None \n",
    "    \n",
    "    def traverse(self):\n",
    "        node = self # start from the head node\n",
    "        while node != None:\n",
    "            print(node.val) # access the node value\n",
    "            node = node.next # move on to the next node\n",
    "        \n",
    "\n",
    "node1 = Node(12) \n",
    "node2 = Node(99) \n",
    "node3 = Node(37) \n",
    "node1.next = node2\n",
    "node2.next = node3 \n",
    "\n",
    "# Add a new Node at the beginning \n",
    "# assign next value to point to the former head node\n",
    "new_node = Node(33)\n",
    "new_node.next = node1\n",
    "\n",
    "new_node.traverse()\n",
    "    "
   ]
  },
  {
   "cell_type": "markdown",
   "metadata": {},
   "source": [
    "### Inserting at the End of the Linked List"
   ]
  },
  {
   "cell_type": "markdown",
   "metadata": {},
   "source": [
    "This involves pointing the **next pointer of the current last node** to the new node."
   ]
  },
  {
   "cell_type": "code",
   "execution_count": 7,
   "metadata": {},
   "outputs": [
    {
     "name": "stdout",
     "output_type": "stream",
     "text": [
      "12\n",
      "99\n",
      "37\n",
      "888\n"
     ]
    }
   ],
   "source": [
    "class Node:\n",
    "    \n",
    "    def __init__(self, val):\n",
    "        self.val = val\n",
    "        self.next = None \n",
    "    \n",
    "    def traverse(self):\n",
    "        node = self # start from the head node\n",
    "        while node != None:\n",
    "            print(node.val) # access the node value\n",
    "            node = node.next # move on to the next node\n",
    "        \n",
    "\n",
    "node1 = Node(12) \n",
    "node2 = Node(99) \n",
    "node3 = Node(37) \n",
    "node1.next = node2\n",
    "node2.next = node3 \n",
    "\n",
    "# Add a new Node at the end \n",
    "# assign next value to point to the former head node\n",
    "new_node = Node(888)\n",
    "node3.next = new_node\n",
    "\n",
    "node1.traverse()"
   ]
  },
  {
   "cell_type": "markdown",
   "metadata": {},
   "source": [
    "### Inserting in between Two Nodes in the Linked List"
   ]
  },
  {
   "cell_type": "markdown",
   "metadata": {},
   "source": [
    "The process of inserting a node in the middle of the linked list is simialr to inserting nodes at the beginning and at the end of the list. The node that comes before the new node needs to be reassigned to point to the new node, while the new node needs to point to the node initially came next. "
   ]
  },
  {
   "cell_type": "code",
   "execution_count": 8,
   "metadata": {},
   "outputs": [
    {
     "name": "stdout",
     "output_type": "stream",
     "text": [
      "12\n",
      "1111\n",
      "99\n",
      "37\n"
     ]
    }
   ],
   "source": [
    "class Node:\n",
    "    \n",
    "    def __init__(self, val):\n",
    "        self.val = val\n",
    "        self.next = None \n",
    "    \n",
    "    def traverse(self):\n",
    "        node = self # start from the head node\n",
    "        while node != None:\n",
    "            print(node.val) # access the node value\n",
    "            node = node.next # move on to the next node\n",
    "        \n",
    "\n",
    "node1 = Node(12) \n",
    "node2 = Node(99) \n",
    "node3 = Node(37) \n",
    "node1.next = node2\n",
    "node2.next = node3 \n",
    "\n",
    "# Add a new Node between node1 and node2 \n",
    "# assign next value of node1 to point to the new node\n",
    "# assing the next value of the new node to point to node2\n",
    "new_node = Node(1111)\n",
    "node1.next = new_node\n",
    "new_node.next = node2\n",
    "\n",
    "node1.traverse()"
   ]
  },
  {
   "cell_type": "markdown",
   "metadata": {},
   "source": [
    "### Removing an Item from the Linked List"
   ]
  },
  {
   "cell_type": "markdown",
   "metadata": {},
   "source": [
    "To remove the node, the **next value of the previous node** needs to be reassigned to point to the **next node after the target one**."
   ]
  },
  {
   "cell_type": "code",
   "execution_count": 11,
   "metadata": {},
   "outputs": [],
   "source": [
    "class Node:\n",
    "    \n",
    "    def __init__(self, val):\n",
    "        self.val = val\n",
    "        self.next = None \n",
    "    \n",
    "    def traverse(self):\n",
    "        node = self # start from the head node\n",
    "        while node != None:\n",
    "            print(node.val) # access the node value\n",
    "            node = node.next # move on to the next node\n",
    "        \n",
    "\n",
    "node1 = Node(12) \n",
    "node2 = Node(99) \n",
    "node3 = Node(37) \n",
    "node4 = Node(88) \n",
    "node5 = Node(125) \n",
    "node1.next = node2\n",
    "node2.next = node3 \n",
    "node3.next = node4\n",
    "node4.next = node5 \n",
    "\n",
    "# Find the node using the key 37\n",
    "# Check if weather the node is the last node (whether its next value is None)\n",
    "# reassign the next value to point to the node following the target node (or None if the target node is the last node)\n",
    "\n",
    "# ..."
   ]
  },
  {
   "cell_type": "markdown",
   "metadata": {},
   "source": [
    "# Resources"
   ]
  },
  {
   "cell_type": "markdown",
   "metadata": {},
   "source": [
    "* [What’s a Linked List, Anyway? [Part 1] - Vaidehi Joshi](https://medium.com/basecs/whats-a-linked-list-anyway-part-1-d8b7e6508b9d)\n",
    "* [Data structures in Python, Series 1: Linked Lists - Kojin](https://medium.com/@kojinoshiba/data-structures-in-python-series-1-linked-lists-d9f848537b4d)\n",
    "* [Python - Linked Lists - tutorialspoint](https://www.tutorialspoint.com/python/python_linked_lists.htm)"
   ]
  },
  {
   "cell_type": "code",
   "execution_count": null,
   "metadata": {},
   "outputs": [],
   "source": []
  }
 ],
 "metadata": {
  "kernelspec": {
   "display_name": "Python 3",
   "language": "python",
   "name": "python3"
  },
  "language_info": {
   "codemirror_mode": {
    "name": "ipython",
    "version": 3
   },
   "file_extension": ".py",
   "mimetype": "text/x-python",
   "name": "python",
   "nbconvert_exporter": "python",
   "pygments_lexer": "ipython3",
   "version": "3.6.4"
  }
 },
 "nbformat": 4,
 "nbformat_minor": 2
}
