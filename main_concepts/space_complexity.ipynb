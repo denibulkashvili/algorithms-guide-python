{
 "cells": [
  {
   "cell_type": "markdown",
   "metadata": {},
   "source": [
    "[Overview of Algorithms and Data Structures](algorithms_overview.ipynb) / Space Complexity"
   ]
  },
  {
   "cell_type": "markdown",
   "metadata": {},
   "source": [
    "# Space Complexity"
   ]
  },
  {
   "cell_type": "markdown",
   "metadata": {},
   "source": [
    "* **In-place algorithms** \n",
    "    - operate directly on the inputted data \n",
    "    - transforms the data and destroys the original dataset. \n",
    "    - more space-efficient (the algorithm only needs a bit of extra space in memory — usually a constant amount of space, or O(1))\n",
    "\n",
    "* **Out-of-place algorithms** \n",
    "    - don’t operate directly on the original dataset\n",
    "    - make a new copy, and perform the sorting on the copied data \n",
    "    - safer, but the algorithm’s memory usage grows with input size. "
   ]
  },
  {
   "cell_type": "markdown",
   "metadata": {},
   "source": [
    "# Resources"
   ]
  },
  {
   "cell_type": "markdown",
   "metadata": {},
   "source": [
    "* [Sorting Out The Basics Behind Sorting Algorithms - Vaidehi Joshi](https://medium.com/basecs/sorting-out-the-basics-behind-sorting-algorithms-b0a032873add)"
   ]
  }
 ],
 "metadata": {
  "kernelspec": {
   "display_name": "Python 3",
   "language": "python",
   "name": "python3"
  },
  "language_info": {
   "codemirror_mode": {
    "name": "ipython",
    "version": 3
   },
   "file_extension": ".py",
   "mimetype": "text/x-python",
   "name": "python",
   "nbconvert_exporter": "python",
   "pygments_lexer": "ipython3",
   "version": "3.6.4"
  }
 },
 "nbformat": 4,
 "nbformat_minor": 2
}
