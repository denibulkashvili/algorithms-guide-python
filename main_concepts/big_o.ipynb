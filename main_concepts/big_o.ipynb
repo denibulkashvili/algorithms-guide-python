{
 "cells": [
  {
   "cell_type": "markdown",
   "metadata": {},
   "source": [
    "[Overview of Algorithms and Data Structures](algorithms_overview.ipynb) / Big-O Notation"
   ]
  },
  {
   "cell_type": "markdown",
   "metadata": {},
   "source": [
    "# Big-O Notation"
   ]
  },
  {
   "cell_type": "markdown",
   "metadata": {},
   "source": [
    "Big-O notation is a simplified mathematical way of analyzing how long an algorithm with a given number of inputs (n) will take to complete it’s task. \n"
   ]
  },
  {
   "cell_type": "markdown",
   "metadata": {},
   "source": [
    "## Common Time Complexities"
   ]
  },
  {
   "cell_type": "markdown",
   "metadata": {},
   "source": [
    "| Time | # of steps given input n | Example |\n",
    "|---|---|---|\n",
    "| O(1) — **Constant Time**| Only takes a single step for the algorithm to accomplish the task. | Value look ups when you know the key (objects) or the index (arrays) always take one step, and are thus constant time. |\n",
    "|O(log n) — **Logarithmic time**|The number of steps are decreased by some factor with each step.|If you know which side of the array to look on for an item, you save time by cutting out the other half (binary search|\n",
    "|O(n) — **Linear Time**|The number of steps required is directly related to n (1 to 1)|You have to look at every item in the array or list to accomplish the task. Single for loops are almost always linear time. Also array methods like indexOf are also linear time. You’re just abstracted away from the looping process.|\n",
    "|O(n²) — **Quadratic Time**|The number of steps it takes to accomplish a task is square of n.|Nested for loops are quadratic time, because you’re running a linear operation within another linear operation (or n*n = n²). |\n",
    "|O($C^n$) — **Exponential Time**|The number of steps it takes to accomplish a task is a constant to the n power|Exponential time is usually for situations where you don’t know that much, and you have to try every possible combination or permutation. Trying to find every combination of letters for a password of length n|"
   ]
  },
  {
   "cell_type": "markdown",
   "metadata": {},
   "source": [
    "![big_o_cheetsheet](../media/big_o_cheetsheet.jpg)"
   ]
  },
  {
   "cell_type": "markdown",
   "metadata": {},
   "source": [
    "Example: let's say that **n = 16**"
   ]
  },
  {
   "cell_type": "markdown",
   "metadata": {},
   "source": [
    "* O (1) = 1 step\n",
    "* O (log n) = 4 steps (More on [\"Logarithms Basics\"](logarithms.ipynb))\n",
    "* O (n) = 16 steps \n",
    "* O(n^2) = 256 steps\n",
    "* O(2^n) = 65,536 steps"
   ]
  },
  {
   "cell_type": "markdown",
   "metadata": {},
   "source": [
    "## Common Data Structures Operations"
   ]
  },
  {
   "cell_type": "markdown",
   "metadata": {},
   "source": [
    "![data_structures_operations](../media/data_structures_operations.jpg)"
   ]
  },
  {
   "cell_type": "markdown",
   "metadata": {},
   "source": [
    "# Resources"
   ]
  },
  {
   "cell_type": "markdown",
   "metadata": {},
   "source": [
    "* [Algorithms in plain English: time complexity and Big-O notation. - Michael Olorunnisola](https://medium.freecodecamp.org/time-is-complex-but-priceless-f0abd015063c)\n",
    "* [All you need to know about “Big O Notation” to crack your next coding interview - Paul Rail](https://medium.freecodecamp.org/all-you-need-to-know-about-big-o-notation-to-crack-your-next-coding-interview-9d575e7eec4)\n",
    "* [Big-O Cheetsheet](http://bigocheatsheet.com/)"
   ]
  }
 ],
 "metadata": {
  "kernelspec": {
   "display_name": "Python 3",
   "language": "python",
   "name": "python3"
  },
  "language_info": {
   "codemirror_mode": {
    "name": "ipython",
    "version": 3
   },
   "file_extension": ".py",
   "mimetype": "text/x-python",
   "name": "python",
   "nbconvert_exporter": "python",
   "pygments_lexer": "ipython3",
   "version": "3.6.4"
  }
 },
 "nbformat": 4,
 "nbformat_minor": 2
}
