{
 "cells": [
  {
   "cell_type": "markdown",
   "metadata": {},
   "source": [
    "[Overview of Algorithms and Data Structures](algorithms_overview.ipynb) / Algorithms / Arrays / Reverse an Array without Affecting Special Characters"
   ]
  },
  {
   "cell_type": "markdown",
   "metadata": {},
   "source": [
    "# Reverse an Array without Affecting Special Characters"
   ]
  },
  {
   "cell_type": "markdown",
   "metadata": {},
   "source": [
    "Given a string, that contains special character together with alphabets (‘a’ to ‘z’ and ‘A’ to ‘Z’), reverse the string in a way that special characters are not affected.\n",
    "\n",
    "Examples:\n",
    "\n",
    "```\n",
    "Input:   str = \"a,b$c\"\n",
    "Output:  str = \"c,b$a\"\n",
    "Note that $ and , are not moved anywhere.  \n",
    "Only subsequence \"abc\" is reversed\n",
    "\n",
    "Input:   str = \"Ab,c,de!$\"\n",
    "Output:  str = \"ed,c,bA!$\"\n",
    "```"
   ]
  },
  {
   "cell_type": "markdown",
   "metadata": {},
   "source": [
    "### Simple Solution:\n",
    "\n",
    "* Use list comprehension to copy all alphabetic chars\n",
    "* Traverse input string and temp in a single loop. Wherever there is alphabetic character is input string add the last character from temp list, else add the current special character "
   ]
  },
  {
   "cell_type": "code",
   "execution_count": 49,
   "metadata": {},
   "outputs": [],
   "source": [
    "def simple_reverse(string):\n",
    "    \n",
    "    # use list comprehension to copy all alphabetic chars\n",
    "    temp = [i for i in string if i.isalpha()]\n",
    "    \n",
    "    # Traverse input string and temp in a single loop. \n",
    "    # Wherever there is alphabetic character is input string add the last character from temp list, \n",
    "    # else add the current special character \n",
    "    \n",
    "    result = []\n",
    "    for i in string:\n",
    "        if i.isalpha():\n",
    "            result.append(temp.pop())\n",
    "        else:\n",
    "            result.append(i)\n",
    "         \n",
    "    return result"
   ]
  },
  {
   "cell_type": "markdown",
   "metadata": {},
   "source": [
    "Time complexity is O(n) but it and it does two traversals of input string.\n",
    "We can reverse with one traversal and without extra space. Below is algorithm."
   ]
  },
  {
   "cell_type": "markdown",
   "metadata": {},
   "source": [
    "### More Efficient Solution"
   ]
  },
  {
   "cell_type": "code",
   "execution_count": 65,
   "metadata": {},
   "outputs": [],
   "source": [
    "def efficient_reverse(string):\n",
    "    \n",
    "    # copy the string \n",
    "    temp = list(string)\n",
    "    \n",
    "    # left and right pointers\n",
    "    l = 0\n",
    "    r = len(temp) -1\n",
    "    \n",
    "     # Traverse temp from both ends until \n",
    "    # 'l' and 'r' meet\n",
    "    \n",
    "    while l < r:\n",
    "        # if either l or r or both are special characters \n",
    "        if not temp[l].isalpha():\n",
    "            l+=1\n",
    "        elif not temp[r].isalpha():\n",
    "            r-=1\n",
    "        # if both l and r pointers are alphabetica characters\n",
    "        else:\n",
    "            temp[r], temp[l] = temp[l], temp[r]\n",
    "            l+=1\n",
    "            r-=1\n",
    "            \n",
    "        \n",
    "    result = temp \n",
    "    \n",
    "    return result   "
   ]
  },
  {
   "cell_type": "markdown",
   "metadata": {},
   "source": [
    "### Benchmarks and Tests"
   ]
  },
  {
   "cell_type": "code",
   "execution_count": 70,
   "metadata": {},
   "outputs": [
    {
     "name": "stdout",
     "output_type": "stream",
     "text": [
      "simple_reverse: a,b$c\n",
      "['c', ',', 'b', '$', 'a']\n",
      "3.6348292780203337\n",
      "\n",
      "simple_reverse: Ab,c,de!$\n",
      "['e', 'd', ',', 'c', ',', 'b', 'A', '!', '$']\n",
      "5.575348687038058\n",
      "\n",
      "simple_reverse: a!!!b.c.d,e'f,ghi\n",
      "['i', '!', '!', '!', 'h', '.', 'g', '.', 'f', ',', 'e', \"'\", 'd', ',', 'c', 'b', 'a']\n",
      "9.502599588679004\n",
      "\n",
      "------------------\n",
      "efficient_reverse: a,b$c\n",
      "['c', ',', 'b', '$', 'a']\n",
      "2.056401207628369\n",
      "\n",
      "efficient_reverse: Ab,c,de!$\n",
      "['e', 'd', ',', 'c', ',', 'b', 'A', '!', '$']\n",
      "3.735551698235213\n",
      "\n",
      "efficient_reverse: a!!!b.c.d,e'f,ghi\n",
      "['i', '!', '!', '!', 'h', '.', 'g', '.', 'f', ',', 'e', \"'\", 'd', ',', 'c', 'b', 'a']\n",
      "6.023205323814182\n",
      "\n"
     ]
    }
   ],
   "source": [
    "import timeit\n",
    "\n",
    "string1 = \"a,b$c\" \n",
    "string2 = \"Ab,c,de!$\"\n",
    "string3 = \"a!!!b.c.d,e'f,ghi\"\n",
    "\n",
    "string_list = [string1, string2, string3]\n",
    "\n",
    "if __name__ == '__main__':\n",
    "    \n",
    "    for string in string_list:\n",
    "        print(f'simple_reverse: {string}')\n",
    "        print(simple_reverse(string))\n",
    "        print(timeit.timeit(\"simple_reverse(string)\", setup=\"from __main__ import simple_reverse, string\"))\n",
    "        print()\n",
    "        \n",
    "    print(\"------------------\")\n",
    "    \n",
    "    for string in string_list:\n",
    "        print(f'efficient_reverse: {string}')\n",
    "        print(efficient_reverse(string))\n",
    "        print(timeit.timeit(\"efficient_reverse(string)\", setup=\"from __main__ import efficient_reverse, string\"))\n",
    "        print()\n",
    "    \n",
    "   \n",
    "    \n"
   ]
  }
 ],
 "metadata": {
  "kernelspec": {
   "display_name": "Python 3",
   "language": "python",
   "name": "python3"
  },
  "language_info": {
   "codemirror_mode": {
    "name": "ipython",
    "version": 3
   },
   "file_extension": ".py",
   "mimetype": "text/x-python",
   "name": "python",
   "nbconvert_exporter": "python",
   "pygments_lexer": "ipython3",
   "version": "3.6.4"
  }
 },
 "nbformat": 4,
 "nbformat_minor": 2
}
