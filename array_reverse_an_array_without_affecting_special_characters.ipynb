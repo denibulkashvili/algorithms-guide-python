{
 "cells": [
  {
   "cell_type": "markdown",
   "metadata": {},
   "source": [
    "[Overview of Algorithms and Data Structures](algorithms_overview.ipynb) / Algorithms / Arrays / Reverse an Array without Affecting Special Characters"
   ]
  },
  {
   "cell_type": "markdown",
   "metadata": {},
   "source": [
    "# Reverse an Array without Affecting Special Characters"
   ]
  },
  {
   "cell_type": "markdown",
   "metadata": {},
   "source": [
    "Given a string, that contains special character together with alphabets (‘a’ to ‘z’ and ‘A’ to ‘Z’), reverse the string in a way that special characters are not affected.\n",
    "\n",
    "Examples:\n",
    "\n",
    "```\n",
    "Input:   str = \"a,b$c\"\n",
    "Output:  str = \"c,b$a\"\n",
    "Note that $ and , are not moved anywhere.  \n",
    "Only subsequence \"abc\" is reversed\n",
    "\n",
    "Input:   str = \"Ab,c,de!$\"\n",
    "Output:  str = \"ed,c,bA!$\"\n",
    "```"
   ]
  },
  {
   "cell_type": "markdown",
   "metadata": {},
   "source": [
    "### Simple Solution:\n",
    "\n",
    "* Use list comprehension to copy all alphabetic chars\n",
    "* Traverse input string and temp in a single loop. Wherever there is alphabetic character is input string add the last character from temp list, else add the current special character "
   ]
  },
  {
   "cell_type": "code",
   "execution_count": 49,
   "metadata": {},
   "outputs": [],
   "source": [
    "def simple_reverse(string):\n",
    "    \n",
    "    # use list comprehension to copy all alphabetic chars\n",
    "    temp = [i for i in string if i.isalpha()]\n",
    "    \n",
    "    # Traverse input string and temp in a single loop. \n",
    "    # Wherever there is alphabetic character is input string add the last character from temp list, \n",
    "    # else add the current special character \n",
    "    \n",
    "    result = []\n",
    "    for i in string:\n",
    "        if i.isalpha():\n",
    "            result.append(temp.pop())\n",
    "        else:\n",
    "            result.append(i)\n",
    "         \n",
    "    return result"
   ]
  },
  {
   "cell_type": "markdown",
   "metadata": {},
   "source": [
    "Time complexity is O(n) but it and it does two traversals of input string.\n",
    "We can reverse with one traversal and without extra space. Below is algorithm."
   ]
  },
  {
   "cell_type": "markdown",
   "metadata": {},
   "source": [
    "### More Efficient Solution"
   ]
  },
  {
   "cell_type": "code",
   "execution_count": 65,
   "metadata": {},
   "outputs": [],
   "source": [
    "def efficient_reverse(string):\n",
    "    \n",
    "    # copy the string \n",
    "    temp = list(string)\n",
    "    \n",
    "    # left and right pointers\n",
    "    l = 0\n",
    "    r = len(temp) -1\n",
    "    \n",
    "     # Traverse temp from both ends until \n",
    "    # 'l' and 'r' meet\n",
    "    \n",
    "    while l < r:\n",
    "        # if either l or r or both are special characters \n",
    "        if not temp[l].isalpha():\n",
    "            l+=1\n",
    "        elif not temp[r].isalpha():\n",
    "            r-=1\n",
    "        # if both l and r pointers are alphabetica characters\n",
    "        else:\n",
    "            temp[r], temp[l] = temp[l], temp[r]\n",
    "            l+=1\n",
    "            r-=1\n",
    "            \n",
    "        \n",
    "    result = temp \n",
    "    \n",
    "    return result   "
   ]
  },
  {
   "cell_type": "markdown",
   "metadata": {},
   "source": [
    "### Benchmarks and Tests"
   ]
  },
  {
   "cell_type": "code",
   "execution_count": 64,
   "metadata": {},
   "outputs": [
    {
     "name": "stdout",
     "output_type": "stream",
     "text": [
      "simple_reverse(string1)\n",
      "['c', ',', 'b', '$', 'a']\n",
      "3.464538476087\n",
      "simple_reverse(string2)\n",
      "['e', 'd', ',', 'c', ',', 'b', 'A', '!', '$']\n",
      "5.154577987865196\n",
      "------------------\n",
      "efficient_reverse(string1)\n",
      "['c', ',', 'b', '$', 'a']\n",
      "1.837891348557605\n",
      "efficient_reverse(string2)\n",
      "['e', 'd', ',', 'c', ',', 'b', 'A', '!', '$']\n",
      "3.23945918381105\n"
     ]
    }
   ],
   "source": [
    "import timeit\n",
    "\n",
    "string1 = \"a,b$c\" \n",
    "string2 = \"Ab,c,de!$\"\n",
    "\n",
    "\n",
    "if __name__ == '__main__':\n",
    "    print(\"simple_reverse(string1)\")\n",
    "    print(simple_reverse(string1))\n",
    "    print(timeit.timeit(\"simple_reverse(string1)\", setup=\"from __main__ import simple_reverse, string1\"))\n",
    "    \n",
    "    print(\"simple_reverse(string2)\")\n",
    "    print(simple_reverse(string2))\n",
    "    print(timeit.timeit(\"simple_reverse(string2)\", setup=\"from __main__ import simple_reverse, string2\"))\n",
    "    \n",
    "    print(\"------------------\")\n",
    "    \n",
    "    print(\"efficient_reverse(string1)\")\n",
    "    print(efficient_reverse(string1))\n",
    "    print(timeit.timeit(\"efficient_reverse(string1)\", setup=\"from __main__ import efficient_reverse, string1\"))\n",
    "    \n",
    "    print(\"efficient_reverse(string2)\")\n",
    "    print(efficient_reverse(string2))\n",
    "    print(timeit.timeit(\"efficient_reverse(string2)\", setup=\"from __main__ import efficient_reverse, string2\"))\n",
    "    \n"
   ]
  },
  {
   "cell_type": "code",
   "execution_count": null,
   "metadata": {},
   "outputs": [],
   "source": []
  }
 ],
 "metadata": {
  "kernelspec": {
   "display_name": "Python 3",
   "language": "python",
   "name": "python3"
  },
  "language_info": {
   "codemirror_mode": {
    "name": "ipython",
    "version": 3
   },
   "file_extension": ".py",
   "mimetype": "text/x-python",
   "name": "python",
   "nbconvert_exporter": "python",
   "pygments_lexer": "ipython3",
   "version": "3.6.4"
  }
 },
 "nbformat": 4,
 "nbformat_minor": 2
}
