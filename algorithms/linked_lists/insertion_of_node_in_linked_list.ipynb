{
 "cells": [
  {
   "cell_type": "markdown",
   "metadata": {},
   "source": [
    "[Overview of Algorithms and Data Structures](../../algorithms_overview.ipynb) / Algorithms / [Linked Lists](../../data_structures/linked_lists.ipynb) / Insertion of a Node in Linked List"
   ]
  },
  {
   "cell_type": "markdown",
   "metadata": {},
   "source": [
    "# Insertion of a Node in Linked List (On the Basis of Some Constraints)"
   ]
  },
  {
   "cell_type": "markdown",
   "metadata": {},
   "source": [
    "Given a sorted linked list and a value to insert, write a function to insert the value in sorted way.\n",
    "\n",
    "Initial Linked List\n",
    "```\n",
    "2 -> 5 -> 7 -> 10 -> 15\n",
    "```\n",
    "Linked List after insertion of 9\n",
    "```\n",
    "2 -> 5 -> 7 -> 9 ->10 -> 15\n",
    "```"
   ]
  },
  {
   "cell_type": "code",
   "execution_count": 19,
   "metadata": {},
   "outputs": [],
   "source": [
    "class Node:\n",
    "    def __init__(self, val):\n",
    "        self.val = val\n",
    "        self.next = None\n",
    "        \n",
    "class LinkedList:\n",
    "    def __init__(self):\n",
    "        self.head = None\n",
    "        \n",
    "    def traverse(self):\n",
    "        while self.head is not None:\n",
    "            print(self.head.val)\n",
    "            self.head = self.head.next\n",
    "            \n",
    "    def insert(self, prev_node, new_node):\n",
    "        new_node.next = prev_node.next\n",
    "        prev_node.next = new_node\n",
    "        \n",
    "            \n",
    "    def insert_sorted(self, new_val):\n",
    "        new_node = Node(new_val)\n",
    "        current_node = self.head\n",
    "        \n",
    "        if current_node is None:\n",
    "            self.head = new_node\n",
    "        \n",
    "        while current_node is not None:\n",
    "            \n",
    "            # check if the value of curent_node is more/less than of new_node\n",
    "            if current_node.val < new_val:\n",
    "                if current_node.next.val > new_val:\n",
    "                    self.insert(current_node, new_node)\n",
    "                    break\n",
    "            current_node = current_node.next        \n",
    "            "
   ]
  },
  {
   "cell_type": "code",
   "execution_count": 23,
   "metadata": {},
   "outputs": [
    {
     "name": "stdout",
     "output_type": "stream",
     "text": [
      "2\n",
      "3\n",
      "5\n",
      "7\n",
      "9\n",
      "10\n",
      "15\n"
     ]
    }
   ],
   "source": [
    "linked_lst = LinkedList()\n",
    "\n",
    "linked_lst.head = Node(2)\n",
    "node1 = Node(5)\n",
    "node2 = Node(7)\n",
    "node3 = Node(10)\n",
    "node4 = Node(15)\n",
    "\n",
    "linked_lst.head.next = node1\n",
    "node1.next = node2\n",
    "node2.next = node3\n",
    "node3.next = node4\n",
    "\n",
    "linked_lst.insert_sorted(9)\n",
    "linked_lst.insert_sorted(3)\n",
    "\n",
    "linked_lst.traverse()\n",
    "\n"
   ]
  }
 ],
 "metadata": {
  "kernelspec": {
   "display_name": "Python 3",
   "language": "python",
   "name": "python3"
  },
  "language_info": {
   "codemirror_mode": {
    "name": "ipython",
    "version": 3
   },
   "file_extension": ".py",
   "mimetype": "text/x-python",
   "name": "python",
   "nbconvert_exporter": "python",
   "pygments_lexer": "ipython3",
   "version": "3.6.4"
  }
 },
 "nbformat": 4,
 "nbformat_minor": 2
}
