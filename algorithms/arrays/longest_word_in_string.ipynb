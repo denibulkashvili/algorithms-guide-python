{
 "cells": [
  {
   "cell_type": "markdown",
   "metadata": {},
   "source": [
    "[Overview of Algorithms and Data Structures](../../algorithms_overview.ipynb) / Algorithms / [Arrays](../../data_structures/arrays.ipynb) / The Longest Word in a String"
   ]
  },
  {
   "cell_type": "markdown",
   "metadata": {},
   "source": [
    "# The Longest Word in a String"
   ]
  },
  {
   "cell_type": "markdown",
   "metadata": {},
   "source": [
    "Return the length of the longest word in the provided sentence.\n",
    "\n",
    "E.g. \"The quick brown fox jumped over the lazy dog\") should return 6. (\"jumped\")\n"
   ]
  },
  {
   "cell_type": "code",
   "execution_count": 5,
   "metadata": {},
   "outputs": [],
   "source": [
    "def find_longest_word(str):\n",
    "    \n",
    "    words = str.split(\" \")\n",
    "    \n",
    "    longest_word = \"\"\n",
    "    \n",
    "    for word in words:\n",
    "        if len(word) > len(longest_word):\n",
    "            longest_word = word\n",
    "    \n",
    "    return len(longest_word)"
   ]
  },
  {
   "cell_type": "code",
   "execution_count": 6,
   "metadata": {},
   "outputs": [
    {
     "name": "stdout",
     "output_type": "stream",
     "text": [
      "6\n"
     ]
    }
   ],
   "source": [
    "str = \"The quick brown fox jumped over the lazy dog\"\n",
    "\n",
    "print(find_longest_word(str))"
   ]
  },
  {
   "cell_type": "markdown",
   "metadata": {},
   "source": [
    "Time complexity is O(n)."
   ]
  }
 ],
 "metadata": {
  "kernelspec": {
   "display_name": "Python 3",
   "language": "python",
   "name": "python3"
  },
  "language_info": {
   "codemirror_mode": {
    "name": "ipython",
    "version": 3
   },
   "file_extension": ".py",
   "mimetype": "text/x-python",
   "name": "python",
   "nbconvert_exporter": "python",
   "pygments_lexer": "ipython3",
   "version": "3.6.4"
  }
 },
 "nbformat": 4,
 "nbformat_minor": 2
}
