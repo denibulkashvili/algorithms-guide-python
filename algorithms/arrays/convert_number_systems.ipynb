{
 "cells": [
  {
   "cell_type": "markdown",
   "metadata": {},
   "source": [
    "[Overview of Algorithms and Data Structures](../../algorithms_overview.ipynb) / Algorithms / [Arrays](../../data_structures/arrays.ipynb) / Convert to Other Number Systems"
   ]
  },
  {
   "cell_type": "markdown",
   "metadata": {},
   "source": [
    "# Convert to Other Number Systems\n",
    "\n",
    "Given an integer `n` print the following values for each integer `i` from `1` to `n`:\n",
    "\n",
    "1. Decimal\n",
    "2. Octal\n",
    "3. Hexadecimal (capitalized)\n",
    "4. Binary\n",
    "\n",
    "The four values must be printed on a single line in the order specified above for each `i` from `1` to `n`. Each value should be space-padded to match the width of the binary value of `n`.\n",
    "\n",
    "**Input Format**\n",
    "\n",
    "A single integer denoting `n`.\n",
    "\n",
    "**Output Format**\n",
    "\n",
    "Print `n` lines where each line `i` contains the respective decimal, octal, capitalized hexadecimal, and binary values of `i`. Each printed value must be formatted to the width of the binary value of `n`.\n",
    "\n",
    "**Sample Input**\n",
    "\n",
    "```\n",
    "17\n",
    "```\n",
    "\n",
    "**Sample Output**\n",
    "\n",
    "```\n",
    "\n",
    "      1     1     1     1\n",
    "      2     2     2    10\n",
    "      3     3     3    11\n",
    "      4     4     4   100\n",
    "      5     5     5   101\n",
    "      6     6     6   110\n",
    "      7     7     7   111\n",
    "      8    10     8  1000\n",
    "      9    11     9  1001\n",
    "     10    12     A  1010\n",
    "     11    13     B  1011\n",
    "     12    14     C  1100\n",
    "     13    15     D  1101\n",
    "     14    16     E  1110\n",
    "     15    17     F  1111\n",
    "     16    20    10 10000\n",
    "     17    21    11 10001     \n",
    "```\n"
   ]
  },
  {
   "cell_type": "markdown",
   "metadata": {},
   "source": [
    "## Solution\n",
    "\n",
    "In Python, integers can be converted to binary, octal and hexadecimal using `bin()`, `oct()` and `hex()` respectively."
   ]
  },
  {
   "cell_type": "code",
   "execution_count": 12,
   "metadata": {},
   "outputs": [
    {
     "name": "stdout",
     "output_type": "stream",
     "text": [
      "1 0o1 0x1 0b1\n",
      "2 0o2 0x2 0b10\n",
      "3 0o3 0x3 0b11\n",
      "4 0o4 0x4 0b100\n"
     ]
    }
   ],
   "source": [
    "for i in range(1, 20):\n",
    "    print(i, oct(i), hex(i), bin(i))"
   ]
  },
  {
   "cell_type": "markdown",
   "metadata": {},
   "source": [
    "Prefix `0b` indicates that the number (which is in fact a string) is formatted in binary. Since it's a string, we can omit the prefixes with easy slicing"
   ]
  },
  {
   "cell_type": "code",
   "execution_count": 13,
   "metadata": {},
   "outputs": [
    {
     "name": "stdout",
     "output_type": "stream",
     "text": [
      "1 1 1 1\n",
      "2 2 2 10\n",
      "3 3 3 11\n",
      "4 4 4 100\n",
      "5 5 5 101\n",
      "6 6 6 110\n",
      "7 7 7 111\n",
      "8 10 8 1000\n",
      "9 11 9 1001\n",
      "10 12 a 1010\n",
      "11 13 b 1011\n",
      "12 14 c 1100\n",
      "13 15 d 1101\n",
      "14 16 e 1110\n",
      "15 17 f 1111\n",
      "16 20 10 10000\n",
      "17 21 11 10001\n",
      "18 22 12 10010\n",
      "19 23 13 10011\n"
     ]
    }
   ],
   "source": [
    "for i in range(1, 20):\n",
    "    print(i, oct(i)[2:], hex(i)[2:], bin(i)[2:])"
   ]
  },
  {
   "cell_type": "markdown",
   "metadata": {},
   "source": [
    "Now let's with width formating. We should format the width taking into account the width of binary value, which tends to be the longest."
   ]
  },
  {
   "cell_type": "code",
   "execution_count": 17,
   "metadata": {},
   "outputs": [],
   "source": [
    "def format_string(i, width):\n",
    "    # for each format, calculate (total_width - length_of_string) * whitespace \n",
    "    decimal = \" \"*(width-len(str(i))) + str(i)\n",
    "    octal = \" \"*(width-len(oct(i)[2:])) + oct(i)[2:]\n",
    "    hexidecimal = \" \"*(width-len(hex(i)[2:])) + hex(i)[2:]\n",
    "    binary = \" \"*(width-len(bin(i)[2:])) + bin(i)[2:]\n",
    "    return decimal + octal + hexidecimal + binary\n",
    "\n",
    "def convert(n):\n",
    "    width = len(bin(n))-1\n",
    "    \n",
    "    for i in range(1, n+1):\n",
    "        print(format_string(i, width))"
   ]
  },
  {
   "cell_type": "code",
   "execution_count": 21,
   "metadata": {},
   "outputs": [
    {
     "name": "stdout",
     "output_type": "stream",
     "text": [
      "     1     1     1     1\n",
      "     2     2     2    10\n",
      "     3     3     3    11\n",
      "     4     4     4   100\n",
      "     5     5     5   101\n",
      "     6     6     6   110\n",
      "     7     7     7   111\n",
      "     8    10     8  1000\n",
      "     9    11     9  1001\n",
      "    10    12     a  1010\n",
      "    11    13     b  1011\n",
      "    12    14     c  1100\n",
      "    13    15     d  1101\n",
      "    14    16     e  1110\n",
      "    15    17     f  1111\n",
      "    16    20    10 10000\n",
      "    17    21    11 10001\n",
      "    18    22    12 10010\n",
      "    19    23    13 10011\n",
      "    20    24    14 10100\n"
     ]
    }
   ],
   "source": [
    "convert(20)"
   ]
  },
  {
   "cell_type": "code",
   "execution_count": 22,
   "metadata": {},
   "outputs": [
    {
     "name": "stdout",
     "output_type": "stream",
     "text": [
      "       1       1       1       1\n",
      "       2       2       2      10\n",
      "       3       3       3      11\n",
      "       4       4       4     100\n",
      "       5       5       5     101\n",
      "       6       6       6     110\n",
      "       7       7       7     111\n",
      "       8      10       8    1000\n",
      "       9      11       9    1001\n",
      "      10      12       a    1010\n",
      "      11      13       b    1011\n",
      "      12      14       c    1100\n",
      "      13      15       d    1101\n",
      "      14      16       e    1110\n",
      "      15      17       f    1111\n",
      "      16      20      10   10000\n",
      "      17      21      11   10001\n",
      "      18      22      12   10010\n",
      "      19      23      13   10011\n",
      "      20      24      14   10100\n",
      "      21      25      15   10101\n",
      "      22      26      16   10110\n",
      "      23      27      17   10111\n",
      "      24      30      18   11000\n",
      "      25      31      19   11001\n",
      "      26      32      1a   11010\n",
      "      27      33      1b   11011\n",
      "      28      34      1c   11100\n",
      "      29      35      1d   11101\n",
      "      30      36      1e   11110\n",
      "      31      37      1f   11111\n",
      "      32      40      20  100000\n",
      "      33      41      21  100001\n",
      "      34      42      22  100010\n",
      "      35      43      23  100011\n",
      "      36      44      24  100100\n",
      "      37      45      25  100101\n",
      "      38      46      26  100110\n",
      "      39      47      27  100111\n",
      "      40      50      28  101000\n",
      "      41      51      29  101001\n",
      "      42      52      2a  101010\n",
      "      43      53      2b  101011\n",
      "      44      54      2c  101100\n",
      "      45      55      2d  101101\n",
      "      46      56      2e  101110\n",
      "      47      57      2f  101111\n",
      "      48      60      30  110000\n",
      "      49      61      31  110001\n",
      "      50      62      32  110010\n",
      "      51      63      33  110011\n",
      "      52      64      34  110100\n",
      "      53      65      35  110101\n",
      "      54      66      36  110110\n",
      "      55      67      37  110111\n",
      "      56      70      38  111000\n",
      "      57      71      39  111001\n",
      "      58      72      3a  111010\n",
      "      59      73      3b  111011\n",
      "      60      74      3c  111100\n",
      "      61      75      3d  111101\n",
      "      62      76      3e  111110\n",
      "      63      77      3f  111111\n",
      "      64     100      40 1000000\n",
      "      65     101      41 1000001\n",
      "      66     102      42 1000010\n",
      "      67     103      43 1000011\n",
      "      68     104      44 1000100\n",
      "      69     105      45 1000101\n",
      "      70     106      46 1000110\n",
      "      71     107      47 1000111\n",
      "      72     110      48 1001000\n",
      "      73     111      49 1001001\n",
      "      74     112      4a 1001010\n",
      "      75     113      4b 1001011\n",
      "      76     114      4c 1001100\n",
      "      77     115      4d 1001101\n",
      "      78     116      4e 1001110\n",
      "      79     117      4f 1001111\n",
      "      80     120      50 1010000\n",
      "      81     121      51 1010001\n",
      "      82     122      52 1010010\n",
      "      83     123      53 1010011\n",
      "      84     124      54 1010100\n",
      "      85     125      55 1010101\n",
      "      86     126      56 1010110\n",
      "      87     127      57 1010111\n",
      "      88     130      58 1011000\n",
      "      89     131      59 1011001\n",
      "      90     132      5a 1011010\n",
      "      91     133      5b 1011011\n",
      "      92     134      5c 1011100\n",
      "      93     135      5d 1011101\n",
      "      94     136      5e 1011110\n",
      "      95     137      5f 1011111\n",
      "      96     140      60 1100000\n",
      "      97     141      61 1100001\n",
      "      98     142      62 1100010\n",
      "      99     143      63 1100011\n"
     ]
    }
   ],
   "source": [
    "convert(99)"
   ]
  },
  {
   "cell_type": "code",
   "execution_count": null,
   "metadata": {},
   "outputs": [],
   "source": []
  }
 ],
 "metadata": {
  "kernelspec": {
   "display_name": "Python 3",
   "language": "python",
   "name": "python3"
  },
  "language_info": {
   "codemirror_mode": {
    "name": "ipython",
    "version": 3
   },
   "file_extension": ".py",
   "mimetype": "text/x-python",
   "name": "python",
   "nbconvert_exporter": "python",
   "pygments_lexer": "ipython3",
   "version": "3.6.4"
  }
 },
 "nbformat": 4,
 "nbformat_minor": 2
}
