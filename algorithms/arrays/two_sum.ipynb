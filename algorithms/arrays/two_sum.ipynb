{
 "cells": [
  {
   "cell_type": "markdown",
   "metadata": {},
   "source": [
    "[Overview of Algorithms and Data Structures](../../algorithms_overview.ipynb) / Algorithms / [Arrays](../../data_structures/arrays.ipynb) / Two Sum"
   ]
  },
  {
   "cell_type": "markdown",
   "metadata": {},
   "source": [
    "# Two Sum"
   ]
  },
  {
   "cell_type": "markdown",
   "metadata": {},
   "source": [
    "Given an array of integers, return indices of the two numbers such that they add up to a specific target.\n",
    "\n",
    "You may assume that each input would have exactly one solution, and you may not use the same element twice.\n",
    "\n",
    "Example:\n",
    "\n",
    "Given nums = [2, 7, 11, 15], target = 9,\n",
    "\n",
    "Because nums[0] + nums[1] = 2 + 7 = 9,\n",
    "return [0, 1].\n"
   ]
  },
  {
   "cell_type": "markdown",
   "metadata": {},
   "source": [
    "## Using Lists"
   ]
  },
  {
   "cell_type": "code",
   "execution_count": 77,
   "metadata": {},
   "outputs": [
    {
     "data": {
      "text/plain": [
       "[1, 4]"
      ]
     },
     "execution_count": 77,
     "metadata": {},
     "output_type": "execute_result"
    }
   ],
   "source": [
    "nums = [3, 7, 11, 16, 20, 25]\n",
    "target = 27\n",
    "\n",
    "def two_sum(nums, t):\n",
    "    \n",
    "    result = []\n",
    "    \n",
    "    for i in range(len(nums)):\n",
    "        complement = t - nums[i]\n",
    "        temp_nums = nums[:] # create a copy of nums so we could exclude the first complement (it needn't repeat)\n",
    "        temp_nums.pop(i)\n",
    "        if complement in temp_nums: # lookup for a complement append\n",
    "            result.extend((i, temp_nums.index(complement)+1))\n",
    "            break\n",
    "\n",
    "    return result\n",
    "\n",
    "two_sum(nums, target)"
   ]
  },
  {
   "cell_type": "markdown",
   "metadata": {},
   "source": [
    "## Using Hash Tables"
   ]
  },
  {
   "cell_type": "code",
   "execution_count": 82,
   "metadata": {
    "scrolled": true
   },
   "outputs": [
    {
     "name": "stdout",
     "output_type": "stream",
     "text": [
      "(1, 4)\n"
     ]
    }
   ],
   "source": [
    "def two_sum_dict(nums, t):\n",
    "    \n",
    "    # generate dict using dict.fromkeys() and dict comprehension\n",
    "    dict_of_nums = { nums[i] : i  for i in range(len(nums))}\n",
    "    \n",
    "    for num, i in dict_of_nums.items():\n",
    "        complement = t - num\n",
    "        if dict_of_nums.get(complement, None) != None and dict_of_nums[complement] != i:\n",
    "            return (i, dict_of_nums[complement])\n",
    "    \n",
    "    \n",
    "print(two_sum_dict(nums, target))"
   ]
  },
  {
   "cell_type": "markdown",
   "metadata": {},
   "source": [
    "## Time it"
   ]
  },
  {
   "cell_type": "code",
   "execution_count": 87,
   "metadata": {},
   "outputs": [],
   "source": [
    "import random\n",
    "# create a big list of numbers\n",
    "\n",
    "rand_nums = [random.randint(1,100) for i in range(1,100)]\n",
    "random_complement1 = random.randint(0, len(rand_nums))\n",
    "random_complement2 = random.randint(0, len(rand_nums))\n",
    "target_sum = rand_nums[random_complement1] + rand_nums[random_complement2]\n",
    "\n"
   ]
  },
  {
   "cell_type": "code",
   "execution_count": 88,
   "metadata": {},
   "outputs": [
    {
     "name": "stdout",
     "output_type": "stream",
     "text": [
      "Using list\n",
      "1.5501396717377247\n",
      "------------------\n",
      "Using dict\n",
      "7.086850015651635\n",
      "------------------\n"
     ]
    }
   ],
   "source": [
    "import timeit\n",
    "\n",
    "\n",
    "\n",
    "if __name__ == '__main__':\n",
    "    \n",
    "    print('Using list')\n",
    "    print(timeit.timeit(\"two_sum(rand_nums, target_sum)\", setup=\"from __main__ import two_sum, rand_nums, target_sum\"))\n",
    "    print(\"------------------\")\n",
    "    print('Using dict')\n",
    "    print(timeit.timeit(\"two_sum_dict(rand_nums, target_sum)\", setup=\"from __main__ import two_sum_dict, rand_nums, target_sum\"))\n",
    "    print(\"------------------\")"
   ]
  }
 ],
 "metadata": {
  "kernelspec": {
   "display_name": "Python 3",
   "language": "python",
   "name": "python3"
  },
  "language_info": {
   "codemirror_mode": {
    "name": "ipython",
    "version": 3
   },
   "file_extension": ".py",
   "mimetype": "text/x-python",
   "name": "python",
   "nbconvert_exporter": "python",
   "pygments_lexer": "ipython3",
   "version": "3.6.4"
  }
 },
 "nbformat": 4,
 "nbformat_minor": 2
}
