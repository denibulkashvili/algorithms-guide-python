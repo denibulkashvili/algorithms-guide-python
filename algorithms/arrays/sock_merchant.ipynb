{
 "cells": [
  {
   "cell_type": "markdown",
   "metadata": {},
   "source": [
    "[Overview of Algorithms and Data Structures](../../algorithms_overview.ipynb) / Algorithms / [Arrays](../../data_structures/arrays.ipynb) / Sock Mercahnt"
   ]
  },
  {
   "cell_type": "markdown",
   "metadata": {},
   "source": [
    "# Sock Mercahnt"
   ]
  },
  {
   "cell_type": "markdown",
   "metadata": {},
   "source": [
    "John works at a clothing store. He has a large pile of socks that he must pair by color for sale. Given an array of integers representing the color of each sock, determine how many pairs of socks with matching colors there are.\n",
    "\n",
    "For example, there are n = 7 socks with colors [1, 2, 1, 2, 1, 3, 2]. There is one pair of color  and one of color . There are three odd socks left, one of each color. The number of pairs is 2."
   ]
  },
  {
   "cell_type": "markdown",
   "metadata": {},
   "source": [
    "## #1. Using set"
   ]
  },
  {
   "cell_type": "markdown",
   "metadata": {},
   "source": [
    "We could use the property of a set to store only unique values and for every element of the set, see how many pairs are in the original list."
   ]
  },
  {
   "cell_type": "code",
   "execution_count": 3,
   "metadata": {},
   "outputs": [],
   "source": [
    "def sort_socks_pairs(arr):\n",
    "    \n",
    "    pairs = 0\n",
    "    \n",
    "    for i in set(arr): # {1, 2, 3}\n",
    "        pair = arr.count(i) // 2\n",
    "        if pair > 0:\n",
    "            pairs += pair\n",
    "    \n",
    "    return pairs  "
   ]
  },
  {
   "cell_type": "code",
   "execution_count": 4,
   "metadata": {},
   "outputs": [
    {
     "name": "stdout",
     "output_type": "stream",
     "text": [
      "2\n",
      "3\n"
     ]
    }
   ],
   "source": [
    "arr = [1, 2, 1, 2, 1, 3, 2]\n",
    "arr2 = [2, 4, 5, 4, 2, 2, 2, 6, 1, 3, 9]\n",
    "\n",
    "print(sort_socks_pairs(arr))\n",
    "print(sort_socks_pairs(arr2))"
   ]
  },
  {
   "cell_type": "markdown",
   "metadata": {},
   "source": [
    "However, the total time complexity is **O(n^2)** because set(list) is O(n) and a for loop is O(n)"
   ]
  }
 ],
 "metadata": {
  "kernelspec": {
   "display_name": "Python 3",
   "language": "python",
   "name": "python3"
  },
  "language_info": {
   "codemirror_mode": {
    "name": "ipython",
    "version": 3
   },
   "file_extension": ".py",
   "mimetype": "text/x-python",
   "name": "python",
   "nbconvert_exporter": "python",
   "pygments_lexer": "ipython3",
   "version": "3.6.4"
  }
 },
 "nbformat": 4,
 "nbformat_minor": 2
}
