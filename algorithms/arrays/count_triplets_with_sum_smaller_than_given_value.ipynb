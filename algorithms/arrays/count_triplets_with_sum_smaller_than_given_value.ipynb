{
 "cells": [
  {
   "cell_type": "markdown",
   "metadata": {},
   "source": [
    "[Overview of Algorithms and Data Structures](../../algorithms_overview.ipynb) / Algorithms / [Arrays](../../data_structures/arrays.ipynb) / Count Triplets With Sum Smaller Than A Given Value"
   ]
  },
  {
   "cell_type": "markdown",
   "metadata": {},
   "source": [
    "# Count Triplets With Sum Smaller Than A Given Value"
   ]
  },
  {
   "cell_type": "markdown",
   "metadata": {},
   "source": [
    "Given an array of distinct integers and a sum value. Find count of triplets with sum smaller than given sum value. Expected Time Complexity is O(n2).\n",
    "\n"
   ]
  },
  {
   "cell_type": "markdown",
   "metadata": {},
   "source": [
    "```\n",
    "Examples:\n",
    "\n",
    "Input : arr[] = {-2, 0, 1, 3}\n",
    "        sum = 2.\n",
    "        \n",
    "Output : 2\n",
    "\n",
    "Explanation :  Below are triplets with sum less than 2\n",
    "               (-2, 0, 1) and (-2, 0, 3) \n",
    "\n",
    "Input : arr[] = {5, 1, 3, 4, 7}\n",
    "        sum = 12.\n",
    "        \n",
    "Output : 4\n",
    "\n",
    "Explanation :  Below are triplets with sum less than 12\n",
    "               (1, 3, 4), (1, 3, 5), (1, 3, 7) and \n",
    "               (1, 4, 5)\n",
    "```"
   ]
  },
  {
   "cell_type": "code",
   "execution_count": null,
   "metadata": {},
   "outputs": [],
   "source": []
  }
 ],
 "metadata": {
  "kernelspec": {
   "display_name": "Python 3",
   "language": "python",
   "name": "python3"
  }
 },
 "nbformat": 4,
 "nbformat_minor": 2
}
