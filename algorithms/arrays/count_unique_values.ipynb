{
 "cells": [
  {
   "cell_type": "markdown",
   "metadata": {},
   "source": [
    "[Overview of Algorithms and Data Structures](../../algorithms_overview.ipynb) / Algorithms / [Arrays](../../data_structures/arrays.ipynb) / Count Unique Values"
   ]
  },
  {
   "cell_type": "markdown",
   "metadata": {},
   "source": [
    "# Count Unique Values"
   ]
  },
  {
   "cell_type": "markdown",
   "metadata": {},
   "source": [
    "Problem: Given an array of integers, count the number of unique values.\n",
    "For example, if we have the following array:\n",
    "\n",
    "[1, 1, 1, 1, 1, 1, 3, 5]\n",
    "\n",
    "the count of original values is 3 => 1, 3, and 5.\n",
    "\n"
   ]
  },
  {
   "cell_type": "markdown",
   "metadata": {},
   "source": [
    "* Create an new empty list\n",
    "* Loop through the list\n",
    "    * If the number is not in the new list, append it there\n",
    "* Return the lenght of the new list"
   ]
  },
  {
   "cell_type": "code",
   "execution_count": 31,
   "metadata": {},
   "outputs": [],
   "source": [
    "def count_unique_values(arr):\n",
    "    \n",
    "    unique_values = []\n",
    "    \n",
    "    for i in arr:\n",
    "        if i not in unique_values:\n",
    "            unique_values.append(i)\n",
    "            \n",
    "    return len(unique_values)"
   ]
  },
  {
   "cell_type": "code",
   "execution_count": 57,
   "metadata": {},
   "outputs": [
    {
     "name": "stdout",
     "output_type": "stream",
     "text": [
      "3\n",
      "4\n",
      "7\n"
     ]
    }
   ],
   "source": [
    "arr = [1, 1, 1, 1, 1, 1, 3, 5]\n",
    "arr2 = [3,3,3,4,4,4,5,5,5,5,5,6]\n",
    "arr3 = [2,2,2,2,2,4,4,4,4,4,4,4,5,5,5,5,5,5,5,5,7,7,7,7,7,7,7,7,7,7,7,8,8,8,8,8,8,8,9,9,9,9,9,9,9,9,10,10,10,10,10,10]\n",
    "\n",
    "print(count_unique_values(arr))\n",
    "print(count_unique_values(arr2))\n",
    "print(count_unique_values(arr3))"
   ]
  },
  {
   "cell_type": "markdown",
   "metadata": {},
   "source": [
    "The function is straightforward and easy to code. However, such brute force approach leaves us with a really slow O(n^2) time since both traversing the original list and new list lookup are O(n) in worst case. We can do better. "
   ]
  },
  {
   "cell_type": "markdown",
   "metadata": {},
   "source": [
    "We can even go as far as drop the for loop altogether by using sets, which is a data structure in Python that can only hold unique values. We still are left with O(n) because of the way list is transformed into set, but we don't need to hold additional list in our memory, making this approach more space efficient."
   ]
  },
  {
   "cell_type": "code",
   "execution_count": 48,
   "metadata": {},
   "outputs": [],
   "source": [
    "def count_unique_values_set(arr):\n",
    "    return len(set(arr))"
   ]
  },
  {
   "cell_type": "code",
   "execution_count": 58,
   "metadata": {},
   "outputs": [
    {
     "name": "stdout",
     "output_type": "stream",
     "text": [
      "3\n",
      "4\n",
      "7\n"
     ]
    }
   ],
   "source": [
    "print(count_unique_values_set(arr))\n",
    "print(count_unique_values_set(arr2))\n",
    "print(count_unique_values(arr3))"
   ]
  },
  {
   "cell_type": "markdown",
   "metadata": {},
   "source": [
    "Let's do some speed tests:"
   ]
  },
  {
   "cell_type": "code",
   "execution_count": 61,
   "metadata": {},
   "outputs": [
    {
     "name": "stdout",
     "output_type": "stream",
     "text": [
      "Using lists\n",
      "0.5691923818698115\n",
      "0.8425182184540745\n",
      "3.5604711546785097\n",
      "------------------\n",
      "Using sets\n",
      "0.8189961768220542\n",
      "1.0709439708947457\n",
      "3.6913683317463324\n",
      "------------------\n"
     ]
    }
   ],
   "source": [
    "import timeit\n",
    "\n",
    "if __name__ == '__main__':\n",
    "    \n",
    "    print('Using lists')\n",
    "    print(timeit.timeit(\"count_unique_values(arr)\", setup=\"from __main__ import count_unique_values, arr\"))\n",
    "    print(timeit.timeit(\"count_unique_values(arr2)\", setup=\"from __main__ import count_unique_values, arr2\"))\n",
    "    print(timeit.timeit(\"count_unique_values(arr3)\", setup=\"from __main__ import count_unique_values, arr3\"))\n",
    "    print(\"------------------\")\n",
    "    print('Using sets')\n",
    "    print(timeit.timeit(\"count_unique_values_set(arr)\", setup=\"from __main__ import count_unique_values_set, arr\"))\n",
    "    print(timeit.timeit(\"count_unique_values_set(arr2)\", setup=\"from __main__ import count_unique_values_set, arr2\"))\n",
    "    print(timeit.timeit(\"count_unique_values_set(arr3)\", setup=\"from __main__ import count_unique_values_set, arr3\"))\n",
    "    print(\"------------------\")"
   ]
  }
 ],
 "metadata": {
  "kernelspec": {
   "display_name": "Python 3",
   "language": "python",
   "name": "python3"
  },
  "language_info": {
   "codemirror_mode": {
    "name": "ipython",
    "version": 3
   },
   "file_extension": ".py",
   "mimetype": "text/x-python",
   "name": "python",
   "nbconvert_exporter": "python",
   "pygments_lexer": "ipython3",
   "version": "3.6.4"
  }
 },
 "nbformat": 4,
 "nbformat_minor": 2
}
