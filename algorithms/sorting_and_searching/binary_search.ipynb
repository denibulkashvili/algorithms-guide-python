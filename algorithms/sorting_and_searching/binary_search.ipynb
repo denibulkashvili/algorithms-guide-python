{
 "cells": [
  {
   "cell_type": "markdown",
   "metadata": {},
   "source": [
    "[Overview of Algorithms and Data Structures](algorithms_overview.ipynb) / Algorithms / Searching and Sorting / Binary Search"
   ]
  },
  {
   "cell_type": "markdown",
   "metadata": {},
   "source": [
    "# Binary Search"
   ]
  },
  {
   "cell_type": "markdown",
   "metadata": {},
   "source": [
    "Given a sorted array arr[] of n elements, write a function to search a given element x in arr[].\n",
    "\n",
    "A simple approach is to do linear search, which has time complexity of O(n). Another approach to perform the same task is using Binary Search.\n",
    "\n",
    "**Binary Search**: Search a sorted array by repeatedly dividing the search interval in half. Begin with an interval covering the whole array. If the value of the search key is less than the item in the middle of the interval, narrow the interval to the lower half. Otherwise narrow it to the upper half. Repeatedly check until the value is found or the interval is empty.\n",
    "\n",
    "The idea of binary search is to use the information that the array is sorted and reduce the time complexity to **O(log n)**."
   ]
  },
  {
   "cell_type": "markdown",
   "metadata": {},
   "source": [
    "**Approach**\n",
    "\n",
    "* Compare x with the middle element.\n",
    "* If x matches with middle element, we return the mid index.\n",
    "* Else If x is greater than the mid element, then x can only lie in right half subarray after the mid element. So we recur for right half.\n",
    "* Else (x is smaller) recur for the left half."
   ]
  },
  {
   "cell_type": "code",
   "execution_count": 16,
   "metadata": {},
   "outputs": [],
   "source": [
    "def binary_search(arr, x):\n",
    "\n",
    "    left_index = 0\n",
    "    right_index = len(arr)-1 # 5\n",
    "    \n",
    "    while left_index < right_index:\n",
    "        \n",
    "        mid_index = (right_index - left_index) // 2 + left_index\n",
    "        \n",
    "        if arr[mid_index] == x:\n",
    "            return mid_index\n",
    "        if arr[mid_index] > x:\n",
    "            right_index = mid_index-1\n",
    "        if arr[mid_index] < x:\n",
    "            left_index = mid_index+\n",
    "        \n",
    "        \n",
    "    "
   ]
  },
  {
   "cell_type": "code",
   "execution_count": 21,
   "metadata": {},
   "outputs": [
    {
     "name": "stdout",
     "output_type": "stream",
     "text": [
      "2\n"
     ]
    }
   ],
   "source": [
    "nums = [ 1, 2, 3, 4, 40 ] \n",
    "x = 2\n",
    "\n",
    "print(binary_search(nums, x))"
   ]
  },
  {
   "cell_type": "markdown",
   "metadata": {},
   "source": [
    "**Hint**: instead of passing parts of the array, we would be more space-efficient if we pass left and right index"
   ]
  },
  {
   "cell_type": "code",
   "execution_count": null,
   "metadata": {},
   "outputs": [],
   "source": []
  },
  {
   "cell_type": "markdown",
   "metadata": {},
   "source": [
    "# Resources"
   ]
  },
  {
   "cell_type": "markdown",
   "metadata": {},
   "source": []
  },
  {
   "cell_type": "code",
   "execution_count": null,
   "metadata": {},
   "outputs": [],
   "source": []
  }
 ],
 "metadata": {
  "kernelspec": {
   "display_name": "Python 3",
   "language": "python",
   "name": "python3"
  },
  "language_info": {
   "codemirror_mode": {
    "name": "ipython",
    "version": 3
   },
   "file_extension": ".py",
   "mimetype": "text/x-python",
   "name": "python",
   "nbconvert_exporter": "python",
   "pygments_lexer": "ipython3",
   "version": "3.6.4"
  }
 },
 "nbformat": 4,
 "nbformat_minor": 2
}
