{
 "cells": [
  {
   "cell_type": "markdown",
   "metadata": {},
   "source": [
    "[Overview of Algorithms and Data Structures](algorithms_overview.ipynb) / Algorithms / Searching and Sorting / Bubble Sort"
   ]
  },
  {
   "cell_type": "markdown",
   "metadata": {},
   "source": [
    "# Bubble Sort"
   ]
  },
  {
   "cell_type": "markdown",
   "metadata": {},
   "source": [
    "Bubble Sort is the simplest sorting algorithm that works by repeatedly swapping the adjacent elements if they are in wrong order.\n"
   ]
  },
  {
   "cell_type": "markdown",
   "metadata": {},
   "source": [
    "Example:\n",
    "\n",
    "**First Pass**:\n",
    "\n",
    "( **5 1** 4 2 8 ) –> ( **1 5** 4 2 8 ), Here, algorithm compares the first two elements, and swaps since 5 > 1.\n",
    "\n",
    "( 1 **5 4** 2 8 ) –>  ( 1 **4 5** 2 8 ), Swap since 5 > 4\n",
    "\n",
    "( 1 4 **5 2** 8 ) –>  ( 1 4 **2 5** 8 ), Swap since 5 > 2\n",
    "\n",
    "( 1 4 2 **5 8** ) –> ( 1 4 2 **5 8** ), Now, since these elements are already in order (8 > 5), algorithm does not swap them.\n",
    "\n",
    "**Second Pass**:\n",
    "\n",
    "( **1 4** 2 5 8 ) –> ( **1 4** 2 5 8 )\n",
    "\n",
    "( 1 **4 2** 5 8 ) –> ( 1 **2 4** 5 8 ), Swap since 4 > 2\n",
    "\n",
    "( 1 2 **4 5** 8 ) –> ( 1 2 **4 5** 8 )\n",
    "\n",
    "Now, here we last vale (8) because after the first pass, we know that it it the greatest value in the list.\n",
    "\n",
    "Now, the array is already sorted, but our algorithm does not know if it is completed. The algorithm needs one whole pass without any swap to know it is sorted.\n",
    "\n",
    "**Third Pass**:\n",
    "\n",
    "( **1 2** 4 5 8 ) –> ( **1 2** 4 5 8 )\n",
    "\n",
    "( 1 **2 4** 5 8 ) –> ( 1 **2 4** 5 8 )\n",
    "\n",
    "( 1 2 **4 5** 8 ) –> ( 1 2 **4 5** 8 )\n",
    "\n",
    "( 1 2 4 **5 8** ) –> ( 1 2 4 **5 8** )\n"
   ]
  },
  {
   "cell_type": "markdown",
   "metadata": {},
   "source": [
    "## Implementation"
   ]
  },
  {
   "cell_type": "code",
   "execution_count": 28,
   "metadata": {},
   "outputs": [],
   "source": [
    "def bubble_sort(arr):\n",
    "    \n",
    "    sorted_arr = arr\n",
    "    for i in range(len(sorted_arr)-1, 0, -1):  # we are looping in a negative direction to be able to use a value of i \n",
    "                                        # to limit the scope of the inner loop\n",
    "                                        # e.g. First pass: i = 5, second pass: i = 4 \n",
    "                                        # (so we don't check for the last element because we know it's the greatest in list)\n",
    "        for j in range(i):\n",
    "            if sorted_arr[j] > sorted_arr[j+1]:\n",
    "                sorted_arr[j], sorted_arr[j+1] = sorted_arr[j+1], sorted_arr[j]\n",
    "    return sorted_arr\n",
    "            "
   ]
  },
  {
   "cell_type": "code",
   "execution_count": 44,
   "metadata": {},
   "outputs": [],
   "source": [
    "test_arr = [5, 1, 4, 2, 8]\n",
    "test_arr2 = [54,26,93,17,77,31,44,55,20]"
   ]
  },
  {
   "cell_type": "code",
   "execution_count": 34,
   "metadata": {},
   "outputs": [
    {
     "name": "stdout",
     "output_type": "stream",
     "text": [
      "[5, 1, 4, 2, 8]\n",
      "[1, 2, 4, 5, 8]\n"
     ]
    }
   ],
   "source": [
    "print(test_arr)\n",
    "print(bubble_sort(test_arr))"
   ]
  },
  {
   "cell_type": "markdown",
   "metadata": {},
   "source": [
    "The algorithm runs in O(n^2) time complexity. There's however, a way to improve it with what is called a **short bubble**. It stops the algorithm early if on the iteration it doesn't swap any elements. It would mean that the array is sorted."
   ]
  },
  {
   "cell_type": "code",
   "execution_count": 42,
   "metadata": {},
   "outputs": [],
   "source": [
    "def short_bubble_sort(arr):\n",
    "    \n",
    "    sorted_arr = arr\n",
    "    swaps = True\n",
    "    \n",
    "    for i in range(len(sorted_arr)-1, 0, -1):  \n",
    "        swaps = False\n",
    "        \n",
    "        for j in range(i):\n",
    "            if sorted_arr[j] > sorted_arr[j+1]:\n",
    "                swaps = True\n",
    "                sorted_arr[j], sorted_arr[j+1] = sorted_arr[j+1], sorted_arr[j]\n",
    "                \n",
    "    if not swaps:\n",
    "        return sorted_arr\n",
    " \n",
    "    return sorted_arr\n",
    "\n",
    "            "
   ]
  },
  {
   "cell_type": "code",
   "execution_count": 45,
   "metadata": {},
   "outputs": [
    {
     "name": "stdout",
     "output_type": "stream",
     "text": [
      "[54, 26, 93, 17, 77, 31, 44, 55, 20]\n",
      "[17, 20, 26, 31, 44, 54, 55, 77, 93]\n"
     ]
    }
   ],
   "source": [
    "print(test_arr2)\n",
    "print(short_bubble_sort(test_arr2))"
   ]
  },
  {
   "cell_type": "markdown",
   "metadata": {},
   "source": [
    "## Conclusion"
   ]
  },
  {
   "cell_type": "markdown",
   "metadata": {},
   "source": [
    "The (a bit) optimized short bubble algorithm is still too slow (as compared to other sorting algorithms that we can use. And as a rule of thumb, we generally don't want to be using bubble sort at all. \n",
    "\n",
    "What is positive about the bubble sort is that is really easy to understand and design, and can serve as a good way to get introduced with sorting algorithms. What's more, here's an explaination of bubble sort that explains it better that I ever could [Watch on YouTube](https://www.youtube.com/watch?v=lyZQPjUT5B4)."
   ]
  }
 ],
 "metadata": {
  "kernelspec": {
   "display_name": "Python 3",
   "language": "python",
   "name": "python3"
  },
  "language_info": {
   "codemirror_mode": {
    "name": "ipython",
    "version": 3
   },
   "file_extension": ".py",
   "mimetype": "text/x-python",
   "name": "python",
   "nbconvert_exporter": "python",
   "pygments_lexer": "ipython3",
   "version": "3.6.4"
  }
 },
 "nbformat": 4,
 "nbformat_minor": 2
}
