{
 "cells": [
  {
   "cell_type": "markdown",
   "metadata": {},
   "source": [
    "[Overview of Algorithms and Data Structures](algorithms_overview.ipynb) / Main Concepts / Big-O Notation"
   ]
  },
  {
   "cell_type": "markdown",
   "metadata": {},
   "source": [
    "# Big-O Notation"
   ]
  },
  {
   "cell_type": "markdown",
   "metadata": {},
   "source": [
    "Big-O notation is a simplified mathematical way of analyzing how long an algorithm with a given number of inputs (n) will take to complete it’s task. \n"
   ]
  },
  {
   "cell_type": "markdown",
   "metadata": {},
   "source": [
    "## Common Time Complexities"
   ]
  },
  {
   "cell_type": "markdown",
   "metadata": {},
   "source": [
    "* O(1) — **Constant Time**: Given an input of size n, it only takes a single step for the algorithm to accomplish the task.\n",
    "* O(log n) — **Logarithmic time**: the number of steps are decreased by some factor with each step.\n",
    "* O(n) — **Linear Time**: Given an input of size n, the number of of steps required is directly related (1 to 1)\n",
    "* O(n²) — **Quadratic Time**: Given an input of size n, the number of steps it takes to accomplish a task is square of n.\n",
    "* O(C^n) — **Exponential Time**: Given an input of size n, the number of steps it takes to accomplish a task is a constant to the n power (pretty large number)."
   ]
  },
  {
   "attachments": {},
   "cell_type": "markdown",
   "metadata": {},
   "source": [
    "![big_o_cheetsheet](media/big_o_cheetsheet.jpg)"
   ]
  },
  {
   "cell_type": "markdown",
   "metadata": {},
   "source": [
    "Example: let's say that **n = 16**"
   ]
  },
  {
   "cell_type": "markdown",
   "metadata": {},
   "source": [
    "* O (1) = 1 step\n",
    "* O (log n) = 4 steps (More on [\"Logarithms Basics\"](logarithms.ipynb))\n",
    "* O (n) = 16 steps \n",
    "* O(n^2) = 256 steps\n",
    "* O(2^n) = 65,536 steps"
   ]
  },
  {
   "cell_type": "markdown",
   "metadata": {},
   "source": [
    "## Common Data Structures Operations"
   ]
  },
  {
   "attachments": {},
   "cell_type": "markdown",
   "metadata": {},
   "source": [
    "![data_structures_operations](media/data_structures_operations.jpg)"
   ]
  },
  {
   "cell_type": "markdown",
   "metadata": {},
   "source": [
    "# Resources"
   ]
  },
  {
   "cell_type": "markdown",
   "metadata": {},
   "source": [
    "* [Algorithms in plain English: time complexity and Big-O notation. - Michael Olorunnisola](https://medium.freecodecamp.org/time-is-complex-but-priceless-f0abd015063c)\n",
    "* [All you need to know about “Big O Notation” to crack your next coding interview - Paul Rail](https://medium.freecodecamp.org/all-you-need-to-know-about-big-o-notation-to-crack-your-next-coding-interview-9d575e7eec4)\n",
    "* [Big-O Cheetsheet](http://bigocheatsheet.com/)"
   ]
  },
  {
   "cell_type": "code",
   "execution_count": null,
   "metadata": {},
   "outputs": [],
   "source": []
  }
 ],
 "metadata": {
  "kernelspec": {
   "display_name": "Python 3",
   "language": "python",
   "name": "python3"
  },
  "language_info": {
   "codemirror_mode": {
    "name": "ipython",
    "version": 3
   },
   "file_extension": ".py",
   "mimetype": "text/x-python",
   "name": "python",
   "nbconvert_exporter": "python",
   "pygments_lexer": "ipython3",
   "version": "3.6.4"
  }
 },
 "nbformat": 4,
 "nbformat_minor": 2
}
