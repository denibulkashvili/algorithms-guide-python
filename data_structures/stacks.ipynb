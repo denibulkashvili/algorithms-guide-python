{
 "cells": [
  {
   "cell_type": "markdown",
   "metadata": {},
   "source": [
    "[Overview of Algorithms and Data Structures](algorithms_overview.ipynb) / Data Structures / Stacks"
   ]
  },
  {
   "cell_type": "markdown",
   "metadata": {},
   "source": [
    "# Stacks"
   ]
  },
  {
   "cell_type": "markdown",
   "metadata": {},
   "source": [
    "Similar to [linked lists](linked_lists.ipynb), a stack is a data structure containing multiple elements. And just like linked lists they are a linear data structure, meaning that they have an order to how they can be constructed and traversed. But unlike other data structures, stacks follow **Last In, First Out** principle.\n",
    "\n",
    "> Last In, First Out (LIFO) - whichever element is the last one to go into the stack will be the very first to go out\n",
    "\n",
    "In terms of time complexity, stacks take O(n) time for *insert* and *delete* operations.\n",
    "\n",
    "There are a few stack implementations in Python that have all slightly different characteristics."
   ]
  },
  {
   "cell_type": "markdown",
   "metadata": {},
   "source": [
    "## Implementation with `list`"
   ]
  },
  {
   "cell_type": "markdown",
   "metadata": {},
   "source": [
    "* simple and starightforward implementation; \n",
    "* `list` comes with build-in support for *push* and *pop* oprations in *amortized* O(1) time\n",
    "* not as stable as alternatives in terms of consitently providing O(1) on insert and delete "
   ]
  },
  {
   "cell_type": "code",
   "execution_count": 5,
   "metadata": {},
   "outputs": [
    {
     "name": "stdout",
     "output_type": "stream",
     "text": [
      "['eat', 'sleep', 'code']\n",
      "[]\n"
     ]
    }
   ],
   "source": [
    "# list provides `append()` and `pop()` methods that are used to implement a a stack (LIFO):\n",
    "\n",
    "my_stack = []\n",
    "\n",
    "my_stack.append('eat')\n",
    "my_stack.append('sleep')\n",
    "my_stack.append('code')\n",
    "\n",
    "print(my_stack)\n",
    "\n",
    "my_stack.pop()\n",
    "my_stack.pop()\n",
    "my_stack.pop()\n",
    "\n",
    "print(my_stack)"
   ]
  },
  {
   "cell_type": "markdown",
   "metadata": {},
   "source": [
    "## Implementation using `collections.deque`"
   ]
  },
  {
   "cell_type": "markdown",
   "metadata": {},
   "source": [
    "* implemented as a *doubly-linked list* under the hood which optimizes appends and deletes \n",
    "* supports O(1) time (non-amortized) for insert and delete operations"
   ]
  },
  {
   "cell_type": "code",
   "execution_count": 4,
   "metadata": {},
   "outputs": [
    {
     "name": "stdout",
     "output_type": "stream",
     "text": [
      "deque(['eat', 'sleep', 'code'])\n",
      "deque([])\n"
     ]
    }
   ],
   "source": [
    "# How to use collections.deque as a stack (LIFO):\n",
    "\n",
    "from collections import deque\n",
    "\n",
    "my_stack = deque()\n",
    "\n",
    "my_stack.append('eat')\n",
    "my_stack.append('sleep')\n",
    "my_stack.append('code')\n",
    "\n",
    "print(my_stack)\n",
    "\n",
    "my_stack.pop()\n",
    "my_stack.pop()\n",
    "my_stack.pop()\n",
    "\n",
    "print(my_stack)"
   ]
  },
  {
   "cell_type": "markdown",
   "metadata": {},
   "source": [
    "## tldr;"
   ]
  },
  {
   "cell_type": "markdown",
   "metadata": {},
   "source": [
    "A preferred tool for stack implementation in Python is `collections.deque`class, provides consistent and unamortized O(1) time for insert and delete"
   ]
  },
  {
   "cell_type": "markdown",
   "metadata": {},
   "source": [
    "# Resources"
   ]
  },
  {
   "cell_type": "markdown",
   "metadata": {},
   "source": [
    "* [Stacks and Overflows - Vaidehi Joshi](https://medium.com/basecs/stacks-and-overflows-dbcf7854dc67)\n",
    "* [Stacks in Python - Dan Bader](https://dbader.org/blog/stacks-in-python)"
   ]
  }
 ],
 "metadata": {
  "kernelspec": {
   "display_name": "Python 3",
   "language": "python",
   "name": "python3"
  },
  "language_info": {
   "codemirror_mode": {
    "name": "ipython",
    "version": 3
   },
   "file_extension": ".py",
   "mimetype": "text/x-python",
   "name": "python",
   "nbconvert_exporter": "python",
   "pygments_lexer": "ipython3",
   "version": "3.6.4"
  }
 },
 "nbformat": 4,
 "nbformat_minor": 2
}
