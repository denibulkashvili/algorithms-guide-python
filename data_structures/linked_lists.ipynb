{
 "cells": [
  {
   "cell_type": "markdown",
   "metadata": {},
   "source": [
    "[Overview of Algorithms and Data Structures](algorithms_overview.ipynb) / Data Structures / Linked Lists"
   ]
  },
  {
   "cell_type": "markdown",
   "metadata": {},
   "source": [
    "# Linked Lists"
   ]
  },
  {
   "cell_type": "markdown",
   "metadata": {},
   "source": [
    "## What Are Linked Lists"
   ]
  },
  {
   "cell_type": "markdown",
   "metadata": {},
   "source": [
    "A linked list is a linear data structure, in which the elements are not stored at contiguous memory locations. A linked list consists of nodes where each node contains a data field and a reference(link) to the next node in the list."
   ]
  },
  {
   "cell_type": "markdown",
   "metadata": {},
   "source": [
    "![memory_allocation](../media/memory_allocation.jpeg)"
   ]
  },
  {
   "cell_type": "markdown",
   "metadata": {},
   "source": [
    "## Types of Linked Lists"
   ]
  },
  {
   "cell_type": "markdown",
   "metadata": {},
   "source": [
    "* **Singly linked list** - There is a single track to traverse the list in: from the head node until the last node, which will end at an empty null value.\n",
    "* **Doubly linked list** - Nodes contain two references: to the next node and the previous node. Doubly linked lists can be traversed in both directions.\n",
    "* **Circular Linked list** - Doesn’t end with a node pointing to a null value. Instead, it has a node that acts as the tail of the list (rather than the conventional head node), and the node after the tail node is the beginning of the list. This organization structure makes it really easy to add something to the end of the list, because you can begin traversing it at the tail node, as the first element and last element point to one another. "
   ]
  },
  {
   "cell_type": "markdown",
   "metadata": {},
   "source": [
    "## Parts of A Linked List"
   ]
  },
  {
   "cell_type": "markdown",
   "metadata": {},
   "source": [
    "A linked list is made up of a series of **nodes**, which are the elements of the list. \n",
    "\n",
    "The starting point of the list is a reference to the first node, the **head**, which is the only entry point to the list and all of its elements. The end of the list isn’t a node, but rather a node that points to **null**, or an empty value.\n",
    "\n",
    "A single node consists of **data**, or the information that the node contains, and a **reference to the next node**.\n"
   ]
  },
  {
   "cell_type": "markdown",
   "metadata": {},
   "source": [
    "## Linked Lists Performance"
   ]
  },
  {
   "cell_type": "markdown",
   "metadata": {},
   "source": [
    "* **Insert or remove elements**: Linked lists have time complexity O(1) because we just reassign the pointers, however this works differently if inserting element somewhere in the middle of the linked list and there's no access to the previous node, because first it is needed to look-up the node after which to insert the new node, which turns into O(n) complexity in the worst case.  Doing the same on an array requires an O(n). \n",
    "* **Lookup elements**: Lookup is O(n) because traversing a linked list involves jumping through all of the nodes in the linked list till the end (in the worst case), while arrays have O(1) lookup with the use of index.\n",
    "* **Memory Efficiency**: As described before, linked list are more memory efficient than arrays. In Python, lists are dynamic arrays and have a larger memory footprint. This doesn't apply to static arrays though, which outperform linked lists in memory efficiency. In Python, tuples can be considered static arrays data type. "
   ]
  },
  {
   "cell_type": "markdown",
   "metadata": {},
   "source": [
    "## Method #1. Creating A Simple Linked List in Python"
   ]
  },
  {
   "cell_type": "markdown",
   "metadata": {},
   "source": [
    "A linked list is created by using the Node class that takes in a value parameter and can also point to the next node's value."
   ]
  },
  {
   "cell_type": "code",
   "execution_count": 12,
   "metadata": {},
   "outputs": [],
   "source": [
    "class Node:\n",
    "    def __init__(self, val):\n",
    "        self.val = val\n",
    "        self.next = None\n",
    "        \n",
    "# Once you have the Node class, you can implement any linked list\n",
    "node1 = Node(12) \n",
    "node2 = Node(99) \n",
    "node3 = Node(37) \n",
    "node1.next = node2 # 12->99\n",
    "node2.next = node3 # 99->37\n",
    "# the entire linked list now looks like: 12->99->37"
   ]
  },
  {
   "cell_type": "markdown",
   "metadata": {},
   "source": [
    "From here, node objects can be used to implement and create a linked list class, which will be described further. However, since the entry point to the linked list is the head node, it could serve as the representation of the linked list as the whole."
   ]
  },
  {
   "cell_type": "markdown",
   "metadata": {},
   "source": [
    "## Traversing the Linked List"
   ]
  },
  {
   "cell_type": "markdown",
   "metadata": {},
   "source": [
    "Here's how to traverse a linked list. Start from the head node, check its value, and move on to the next node. If the node doesn't have any value (None), the traversal has hit the end of the linked list."
   ]
  },
  {
   "cell_type": "code",
   "execution_count": 4,
   "metadata": {},
   "outputs": [
    {
     "name": "stdout",
     "output_type": "stream",
     "text": [
      "12\n",
      "99\n",
      "37\n"
     ]
    }
   ],
   "source": [
    "class Node:\n",
    "    def __init__(self, val):\n",
    "        self.val = val\n",
    "        self.next = None \n",
    "    \n",
    "    def traverse(self):\n",
    "        node = self # start from the head node\n",
    "        while node != None:\n",
    "            print(node.val) # access the node value\n",
    "            node = node.next # move on to the next node\n",
    "\n",
    "node1 = Node(12) \n",
    "node2 = Node(99) \n",
    "node3 = Node(37) \n",
    "node1.next = node2\n",
    "node2.next = node3 \n",
    "\n",
    "node1.traverse()\n"
   ]
  },
  {
   "cell_type": "markdown",
   "metadata": {},
   "source": [
    "## Inserting Values"
   ]
  },
  {
   "cell_type": "markdown",
   "metadata": {},
   "source": [
    "Inserting an element in the linked list involves reassigning the pointers from the existing nodes to the newly inserted node. Depending on whether the new data element is getting inserted at the beginning or at the middle or at the end of the linked list, we have the below scenarios."
   ]
  },
  {
   "cell_type": "markdown",
   "metadata": {},
   "source": [
    "### Inserting at the Beginning of the Linked List"
   ]
  },
  {
   "cell_type": "markdown",
   "metadata": {},
   "source": [
    "This involves pointing the **next pointer of the new data node** to the **current head** of the linked list. So the current head of the linked list becomes the second data element and the new node becomes the head of the linked list."
   ]
  },
  {
   "cell_type": "code",
   "execution_count": 6,
   "metadata": {},
   "outputs": [
    {
     "name": "stdout",
     "output_type": "stream",
     "text": [
      "33\n",
      "12\n",
      "99\n",
      "37\n"
     ]
    }
   ],
   "source": [
    "class Node:\n",
    "    \n",
    "    def __init__(self, val):\n",
    "        self.val = val\n",
    "        self.next = None \n",
    "    \n",
    "    def traverse(self):\n",
    "        node = self # start from the head node\n",
    "        while node != None:\n",
    "            print(node.val) # access the node value\n",
    "            node = node.next # move on to the next node\n",
    "        \n",
    "\n",
    "node1 = Node(12) \n",
    "node2 = Node(99) \n",
    "node3 = Node(37) \n",
    "node1.next = node2\n",
    "node2.next = node3 \n",
    "\n",
    "# Add a new Node at the beginning \n",
    "# assign next value to point to the former head node\n",
    "new_node = Node(33)\n",
    "new_node.next = node1\n",
    "\n",
    "new_node.traverse()\n",
    "    "
   ]
  },
  {
   "cell_type": "markdown",
   "metadata": {},
   "source": [
    "### Inserting at the End of the Linked List"
   ]
  },
  {
   "cell_type": "markdown",
   "metadata": {},
   "source": [
    "This involves pointing the **next pointer of the current last node** to the new node."
   ]
  },
  {
   "cell_type": "code",
   "execution_count": 7,
   "metadata": {},
   "outputs": [
    {
     "name": "stdout",
     "output_type": "stream",
     "text": [
      "12\n",
      "99\n",
      "37\n",
      "888\n"
     ]
    }
   ],
   "source": [
    "class Node:\n",
    "    \n",
    "    def __init__(self, val):\n",
    "        self.val = val\n",
    "        self.next = None \n",
    "    \n",
    "    def traverse(self):\n",
    "        node = self # start from the head node\n",
    "        while node != None:\n",
    "            print(node.val) # access the node value\n",
    "            node = node.next # move on to the next node\n",
    "        \n",
    "\n",
    "node1 = Node(12) \n",
    "node2 = Node(99) \n",
    "node3 = Node(37) \n",
    "node1.next = node2\n",
    "node2.next = node3 \n",
    "\n",
    "# Add a new Node at the end \n",
    "# assign next value to point to the former head node\n",
    "new_node = Node(888)\n",
    "node3.next = new_node\n",
    "\n",
    "node1.traverse()"
   ]
  },
  {
   "cell_type": "markdown",
   "metadata": {},
   "source": [
    "### Inserting in between Two Nodes in the Linked List"
   ]
  },
  {
   "cell_type": "markdown",
   "metadata": {},
   "source": [
    "The process of inserting a node in the middle of the linked list is simialr to inserting nodes at the beginning and at the end of the list. The node that comes before the new node needs to be reassigned to point to the new node, while the new node needs to point to the node that initially came next. "
   ]
  },
  {
   "cell_type": "code",
   "execution_count": 8,
   "metadata": {},
   "outputs": [
    {
     "name": "stdout",
     "output_type": "stream",
     "text": [
      "12\n",
      "1111\n",
      "99\n",
      "37\n"
     ]
    }
   ],
   "source": [
    "class Node:\n",
    "    \n",
    "    def __init__(self, val):\n",
    "        self.val = val\n",
    "        self.next = None \n",
    "    \n",
    "    def traverse(self):\n",
    "        node = self # start from the head node\n",
    "        while node != None:\n",
    "            print(node.val) # access the node value\n",
    "            node = node.next # move on to the next node\n",
    "        \n",
    "\n",
    "node1 = Node(12) \n",
    "node2 = Node(99) \n",
    "node3 = Node(37) \n",
    "node1.next = node2\n",
    "node2.next = node3 \n",
    "\n",
    "# Add a new Node between node1 and node2 \n",
    "# assign next value of node1 to point to the new node\n",
    "# assing the next value of the new node to point to node2\n",
    "new_node = Node(1111)\n",
    "node1.next = new_node\n",
    "new_node.next = node2\n",
    "\n",
    "node1.traverse()"
   ]
  },
  {
   "cell_type": "markdown",
   "metadata": {},
   "source": [
    "## Method #2. Implementing a Linked List via Creating a Linked List Class"
   ]
  },
  {
   "cell_type": "markdown",
   "metadata": {},
   "source": [
    "In the previous approach, a linked list was created without having a separate class to implement linked list. In such a way, the head node is treated as a linked list itself (as an entry point to the linked list). However, it is sometimes useful to create a separate class for linked list allowing to easily access methods needed to manipulate elements of the linked lists. \n",
    "\n",
    "In the following example, linked list is implemented via a linked list class that contains methods to traverse, insert or remove nodes.  "
   ]
  },
  {
   "cell_type": "code",
   "execution_count": 5,
   "metadata": {},
   "outputs": [],
   "source": [
    "class Node: \n",
    "    \"\"\"Implements a Node class\"\"\"\n",
    "    \n",
    "    def __init__(self, val):\n",
    "        self.val = val\n",
    "        self.next = None\n",
    "\n",
    "        \n",
    "class LinkedList:\n",
    "    \"\"\"Implements a Linked List class\"\"\"\n",
    "    \n",
    "    def __init__(self):\n",
    "        self.head = None\n",
    "    \n",
    "    def traverse(self):\n",
    "        current_node = self.head\n",
    "        while current_node is not None:\n",
    "            print(current_node.val)\n",
    "            current_node = current_node.next\n",
    "            \n",
    "    def find(self, val):\n",
    "        current_node = self.head\n",
    "        is_node_found = False\n",
    "        while current_node is not None:\n",
    "            if current_node.val == val:\n",
    "                print(f'Node {val} is in the list!')\n",
    "                is_node_found = True\n",
    "                break\n",
    "            else:\n",
    "                current_node = current_node.next\n",
    "        if not is_node_found:\n",
    "            print(f'Node {val} is NOT in the list!')\n",
    "            \n",
    "            \n",
    "    def add_at_beginning(self, new_val):\n",
    "        \"\"\"Adds new node, assigns its next value to point to the current head node, \n",
    "            and assigns it as the new head node (in that order)\"\"\"\n",
    "        new_node = Node(new_val)\n",
    "        new_node.next = self.head\n",
    "        self.head = new_node\n",
    "        \n",
    "    def add_at_end(self, new_val):\n",
    "        \"\"\"Adds new node at the end, points the next value of the current last node (if any) to the new node \"\"\"\n",
    "        new_node = Node(new_val)\n",
    "        new_node.next = None\n",
    "        \n",
    "        # account for special case - if the list is empty\n",
    "        if not self.head:\n",
    "            self.head = new_node\n",
    "        else:\n",
    "            # find the last node and assign its next value to point to the new node\n",
    "            current_last_node = self.head\n",
    "            while current_last_node.next is not None: # last node is the node which next value is None\n",
    "                current_last_node = current_last_node.next\n",
    "            current_last_node.next = new_node\n",
    "            \n",
    "    def add_in_middle(self, prev_node, new_val):\n",
    "        \"\"\"Adds new node after the target node (prev_node) in the list\"\"\"\n",
    "        new_node = Node(new_val)\n",
    "        \n",
    "        # point the next value of the new node to the node currently after the target node\n",
    "        new_node.next = prev_node.next    \n",
    "        # point the next value of the previous node to the new node\n",
    "        prev_node.next = new_node\n",
    "        \n",
    "    def remove(self, remove_val):\n",
    "        \"\"\"Removes a node with the target value\"\"\"\n",
    "                \n",
    "        current_node = self.head\n",
    "        \n",
    "        if (current_node is not None):\n",
    "            if (current_node.val == remove_val):\n",
    "                self.head = current_node.next\n",
    "                current_node = None\n",
    "                return\n",
    "\n",
    "        while (current_node is not None):\n",
    "            if current_node.val == remove_val:\n",
    "                break\n",
    "            prev = current_node\n",
    "            current_node = current_node.next\n",
    "\n",
    "        if (current_node == None):\n",
    "            return\n",
    "\n",
    "        prev.next = current_node.next\n",
    "\n",
    "        current_node = None"
   ]
  },
  {
   "cell_type": "code",
   "execution_count": 6,
   "metadata": {},
   "outputs": [
    {
     "name": "stdout",
     "output_type": "stream",
     "text": [
      "> Traverse the linked list\n",
      "0\n",
      "11\n",
      "22\n",
      "33\n",
      "\n",
      "> Find the nodes in the linked list\n",
      "Node 33 is in the list!\n",
      "Node 99 is NOT in the list!\n",
      "\n",
      "> Add a new node at the beginning\n",
      "-11\n",
      "0\n",
      "11\n",
      "22\n",
      "33\n",
      "\n",
      "> Add a new node at the end\n",
      "-11\n",
      "0\n",
      "11\n",
      "22\n",
      "33\n",
      "44\n",
      "\n",
      "> Add a new node at the end (if the list is empty)\n",
      "44\n",
      "\n",
      "> Add a new node in the middle (after the target node (e.g. node1)\n",
      "-11\n",
      "0\n",
      "11\n",
      "12\n",
      "22\n",
      "33\n",
      "44\n",
      "\n",
      "> Remove a node (33)\n",
      "-11\n",
      "0\n",
      "11\n",
      "12\n",
      "22\n",
      "44\n"
     ]
    }
   ],
   "source": [
    "# create a new LinkedList object\n",
    "my_list = LinkedList()\n",
    "\n",
    "# add new nodes to the linked list\n",
    "my_list.head = Node(0)\n",
    "node1 = Node(11)\n",
    "node2 = Node(22)\n",
    "node3 = Node(33)\n",
    "\n",
    "# connect nodes using the next value\n",
    "my_list.head.next = node1\n",
    "node1.next = node2 \n",
    "node2.next = node3\n",
    "\n",
    "#traverse the list\n",
    "print(\"> Traverse the linked list\")\n",
    "my_list.traverse()\n",
    "\n",
    "#traverse the list\n",
    "print(\"\\n> Find the nodes in the linked list\")\n",
    "my_list.find(33)\n",
    "my_list.find(99)\n",
    "\n",
    "# add a new node at the beginning\n",
    "print(\"\\n> Add a new node at the beginning\")\n",
    "my_list.add_at_beginning(-11)\n",
    "my_list.traverse()\n",
    "\n",
    "# add a new node at the end\n",
    "print(\"\\n> Add a new node at the end\")\n",
    "my_list.add_at_end(44)\n",
    "my_list.traverse()\n",
    "\n",
    "# add a new node at the end (if the list is empty)\n",
    "print(\"\\n> Add a new node at the end (if the list is empty)\")\n",
    "my_list2 = LinkedList()\n",
    "my_list2.add_at_end(44)\n",
    "my_list2.traverse()\n",
    "\n",
    "# add a new node in the middle (after the target node (e.g. node1)\n",
    "print(\"\\n> Add a new node in the middle (after the target node (e.g. node1)\")\n",
    "my_list.add_in_middle(node1, 12)\n",
    "my_list.traverse()\n",
    "\n",
    "# remove a node\n",
    "print(\"\\n> Remove a node (33)\")\n",
    "my_list.remove(33)\n",
    "my_list.traverse()\n"
   ]
  },
  {
   "cell_type": "markdown",
   "metadata": {},
   "source": [
    "## Method #3. Using ```collections.deque``` Class"
   ]
  },
  {
   "cell_type": "markdown",
   "metadata": {},
   "source": [
    "```collections.deque``` class from the Python standard library is implemented as a doubly-linked list behind the scenes. But this will only work for some use cases.\n",
    "\n",
    "For example, ```collections.deque``` work well as linked lists for adding/removing nodes at the beginning or the end of the list with time complexity O(1). However, they are slow (O(n)) for adding or removing nodes in between other nodes in the list. \n",
    "\n",
    "```collections.deque```also work well for implementing [queues](queues.ipynb) or [stacks](stacks.ipynb).\n",
    "\n",
    "\n",
    "\n"
   ]
  },
  {
   "cell_type": "code",
   "execution_count": 22,
   "metadata": {},
   "outputs": [
    {
     "name": "stdout",
     "output_type": "stream",
     "text": [
      "\n",
      "> Add new nodes at the beginning\n",
      "deque([0])\n",
      "\n",
      "> Add new nodes at the end\n",
      "deque([0, 1, 2])\n",
      "\n",
      "> Add new nodes in the middle\n",
      "deque([0, 1, 1.5, 2])\n",
      "\n",
      "> Search for node wth value 1.5\n",
      "Index: 2\n",
      "\n",
      "> Remove node at the beginning\n",
      "deque([1, 1.5, 2])\n",
      "\n",
      "> Remove node at the end\n",
      "deque([1, 1.5])\n",
      "\n",
      "> Remove node in the middle\n",
      "deque([1])\n"
     ]
    }
   ],
   "source": [
    "import collections\n",
    "\n",
    "new_list = collections.deque()\n",
    "\n",
    "# Add nodes at the end\n",
    "print(\"\\n> Add new nodes at the beginning\")\n",
    "new_list.appendleft(0)\n",
    "print(new_list)\n",
    "\n",
    "# Add nodes at the end\n",
    "print(\"\\n> Add new nodes at the end\")\n",
    "new_list.append(1)\n",
    "new_list.append(2)\n",
    "print(new_list)\n",
    "\n",
    "# Add nodes in the middle (slower with O(n) time)\n",
    "print(\"\\n> Add new nodes in the middle\")\n",
    "new_list.insert(2, 1.5)\n",
    "print(new_list)\n",
    "\n",
    "# Search for node in the list O(n)\n",
    "print(\"\\n> Search for node wth value 1.5\")\n",
    "index = new_list.index(1.5)\n",
    "print(f'Index: {index}')\n",
    "\n",
    "# Remove node at the beginning O(1)\n",
    "print(\"\\n> Remove node at the beginning\")\n",
    "new_list.popleft() \n",
    "print(new_list)\n",
    "\n",
    "# Remove node at the end O(1)\n",
    "print(\"\\n> Remove node at the end\")\n",
    "new_list.pop() \n",
    "print(new_list)\n",
    "\n",
    "# Remove node in the middle O(n)\n",
    "print(\"\\n> Remove node in the middle\")\n",
    "del new_list[1]\n",
    "print(new_list)"
   ]
  },
  {
   "cell_type": "markdown",
   "metadata": {},
   "source": [
    "# Resources"
   ]
  },
  {
   "cell_type": "markdown",
   "metadata": {},
   "source": [
    "* [What’s a Linked List, Anyway? [Part 1] - Vaidehi Joshi](https://medium.com/basecs/whats-a-linked-list-anyway-part-1-d8b7e6508b9d)\n",
    "* [Data structures in Python, Series 1: Linked Lists - Kojin](https://medium.com/@kojinoshiba/data-structures-in-python-series-1-linked-lists-d9f848537b4d)\n",
    "* [Python - Linked Lists - tutorialspoint](https://www.tutorialspoint.com/python/python_linked_lists.htm)\n",
    "* [Linked Lists in Python - Dan Bader](https://dbader.org/blog/python-linked-list)"
   ]
  }
 ],
 "metadata": {
  "kernelspec": {
   "display_name": "Python 3",
   "language": "python",
   "name": "python3"
  },
  "language_info": {
   "codemirror_mode": {
    "name": "ipython",
    "version": 3
   },
   "file_extension": ".py",
   "mimetype": "text/x-python",
   "name": "python",
   "nbconvert_exporter": "python",
   "pygments_lexer": "ipython3",
   "version": "3.6.4"
  }
 },
 "nbformat": 4,
 "nbformat_minor": 2
}
